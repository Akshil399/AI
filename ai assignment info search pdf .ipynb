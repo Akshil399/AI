{
 "cells": [
  {
   "cell_type": "markdown",
   "metadata": {},
   "source": [
    "### Home Assigment 1, CMPE 252, Section 01, Fall 2023, San Jose State University\n",
    "#### Informative Search using A* Algorithm and its comparison to uninformed search methods (BFS, Dijkstra)\n",
    "All the required utility functions are provided at the beginning of this notebook. There are 8 tasks \n",
    "after the utility functions, and a bonus task (10 additional points to HW1, if solved correclty). \n",
    "\n",
    "**This assignment is individual**. \n",
    "\n",
    "The deadline is Septemper 14, 2023, 11:59PM. The submission is in Canvas.\n",
    "\n",
    "**please submit two separate files (not in a ZIP file) this notebook and its corresponding PDF (File->Download as -> PDF)**"
   ]
  },
  {
   "cell_type": "markdown",
   "metadata": {},
   "source": [
    "import the necessary libraries"
   ]
  },
  {
   "cell_type": "code",
   "execution_count": 1,
   "metadata": {},
   "outputs": [],
   "source": [
    "import matplotlib.pyplot as plt\n",
    "import numpy as np\n",
    "import sys\n",
    "import networkx as nx\n",
    "%matplotlib inline"
   ]
  },
  {
   "cell_type": "markdown",
   "metadata": {},
   "source": [
    "'build_maze' builds the maze from 'maze_file.txt'."
   ]
  },
  {
   "cell_type": "code",
   "execution_count": 2,
   "metadata": {},
   "outputs": [],
   "source": [
    "def build_maze(maze_file):\n",
    "    '''\n",
    "    para1: filename of the maze txt file\n",
    "    return mazes as a numpy array walls: 0 - no wall, 1 - wall in the maze\n",
    "    '''\n",
    "    a = open(maze_file, 'r')  \n",
    "    m=[]\n",
    "    for i in a.readlines():\n",
    "        m.append(np.array(i.split(\" \"), dtype=\"int32\"))\n",
    "    return np.array(m)"
   ]
  },
  {
   "cell_type": "markdown",
   "metadata": {},
   "source": [
    "define START and GOAL states within the maze"
   ]
  },
  {
   "cell_type": "markdown",
   "metadata": {},
   "source": [
    "***Visualize the maze***: "
   ]
  },
  {
   "cell_type": "code",
   "execution_count": 3,
   "metadata": {},
   "outputs": [
    {
     "data": {
      "text/plain": [
       "<matplotlib.image.AxesImage at 0x206ecfcb4f0>"
      ]
     },
     "execution_count": 3,
     "metadata": {},
     "output_type": "execute_result"
    },
    {
     "data": {
      "image/png": "[encoded data removed]",
      "text/plain": [
       "<Figure size 432x288 with 1 Axes>"
      ]
     },
     "metadata": {
      "needs_background": "light"
     },
     "output_type": "display_data"
    }
   ],
   "source": [
    "# (you are encouraged to look at the API of 'imshow')\n",
    "plt.imshow(build_maze(\"maze_20x20.txt\"), cmap='Greens')"
   ]
  },
  {
   "cell_type": "code",
   "execution_count": 4,
   "metadata": {},
   "outputs": [],
   "source": [
    "START=(1, 1)\n",
    "GOAL=(19,19)\n",
    "# Goal for 50X50 maze is (1,49)"
   ]
  },
  {
   "cell_type": "markdown",
   "metadata": {},
   "source": [
    "'Find_the_edges' builds the graph for the maze, assuming that the robot can move only in the four directions (Up, Down, Right, Left)."
   ]
  },
  {
   "cell_type": "code",
   "execution_count": 5,
   "metadata": {},
   "outputs": [],
   "source": [
    "def Find_the_edges(maze):\n",
    "    '''\n",
    "    para1: numpy array of the maze structure\n",
    "    return graph of the connected nodes\n",
    "    '''\n",
    "    graph={}\n",
    "    grid_size=len(maze)\n",
    "    for i in range(grid_size):\n",
    "        for j in range(grid_size):\n",
    "            if(maze[i][j]!=1):\n",
    "                adj=[]\n",
    "                eles=[]\n",
    "                if i - 1 >= 0:\n",
    "                    eles.append((i-1,j))\n",
    "                if i + 1 < grid_size:\n",
    "                    eles.append((i+1,j))\n",
    "                if j - 1 >=0:\n",
    "                    eles.append((i,j-1))\n",
    "                if j+1< grid_size:\n",
    "                    eles.append((i,j+1))\n",
    "                for ele in eles:\n",
    "                    if maze[ele[0]][ele[1]] == 0 or maze[ele[0]][ele[1]]=='3' :\n",
    "                        adj.append((ele[0],ele[1]))\n",
    "                graph[(i,j)]=adj\n",
    "    return graph"
   ]
  },
  {
   "cell_type": "markdown",
   "metadata": {},
   "source": [
    "***Breadth First Search (BFS)***"
   ]
  },
  {
   "cell_type": "code",
   "execution_count": 6,
   "metadata": {},
   "outputs": [
    {
     "data": {
      "text/plain": [
       "'\\nvisited nodes - mark them as -3 in maze numpy array \\npath- mark them as -1 in maze numpy array\\nand Visualize the maze\\n'"
      ]
     },
     "execution_count": 6,
     "metadata": {},
     "output_type": "execute_result"
    }
   ],
   "source": [
    "from collections import deque\n",
    "def BreadthFirst(graph, start, goal):\n",
    "    '''\n",
    "    para1: connected graph\n",
    "    para2: Starting node\n",
    "    para3: ending Node\n",
    "    return1: list of visited nodes\n",
    "    return2: nodes of shortest path\n",
    "    '''\n",
    "    queue = deque([([start], start)])\n",
    "    visited = set()\n",
    "    \n",
    "    while queue:\n",
    "        path, current = queue.popleft()\n",
    "        #print(path, current)\n",
    "        if current == goal:\n",
    "            #print( path)\n",
    "            return visited, np.array(path)\n",
    "        if current in visited:\n",
    "            continue\n",
    "        #print(current)\n",
    "        visited.add(current)\n",
    "        for neighbour in graph[current]:\n",
    "            #print(graph[current])\n",
    "            p = list(path)\n",
    "            p.append(neighbour)\n",
    "            queue.append((p, neighbour))\n",
    "    return None\n",
    "'''\n",
    "visited nodes - mark them as -3 in maze numpy array \n",
    "path- mark them as -1 in maze numpy array\n",
    "and Visualize the maze\n",
    "'''    "
   ]
  },
  {
   "cell_type": "code",
   "execution_count": 7,
   "metadata": {},
   "outputs": [],
   "source": [
    "#example for visualization of maze with visited nodes and shortest path\n",
    "# visited nodes are marked by '-3', the final path is marked by '-1'.\n",
    "maze1=build_maze(\"maze_20x20.txt\")\n",
    "graph=Find_the_edges(maze1)\n",
    "visited, path = BreadthFirst(graph, START, GOAL)\n",
    "for i in visited:\n",
    "    maze1[i[0],i[1]]=-3\n",
    "for i in path:\n",
    "    maze1[i[0],i[1]]=-1"
   ]
  },
  {
   "cell_type": "code",
   "execution_count": 8,
   "metadata": {},
   "outputs": [
    {
     "data": {
      "text/plain": [
       "<matplotlib.image.AxesImage at 0x206ed330280>"
      ]
     },
     "execution_count": 8,
     "metadata": {},
     "output_type": "execute_result"
    },
    {
     "data": {
      "image/png": "[encoded data removed]",
      "text/plain": [
       "<Figure size 432x288 with 1 Axes>"
      ]
     },
     "metadata": {
      "needs_background": "light"
     },
     "output_type": "display_data"
    }
   ],
   "source": [
    "plt.imshow(maze1, cmap='Pastel2')"
   ]
  },
  {
   "cell_type": "markdown",
   "metadata": {},
   "source": [
    "- ***gray cells*** means the walls of the maze\n",
    "- ***dark green cells*** means the visited cells of the maze\n",
    "- ***light green cells*** means the shortest path of the maze\n",
    "- ***light brown*** means the unvisited cells of the maze"
   ]
  },
  {
   "cell_type": "markdown",
   "metadata": {},
   "source": [
    "***A**** ***-search*** "
   ]
  },
  {
   "cell_type": "code",
   "execution_count": 9,
   "metadata": {},
   "outputs": [],
   "source": [
    "def Euclidean_distance(node1, node2):\n",
    "    '''\n",
    "    para1: is a tuple which contains the coorinates of the source node\n",
    "    para2: is a tuple which contains the coorinates of the source node\n",
    "    return: Euclidean distance between the 2 nodes\n",
    "    '''\n",
    "    return ((node1[0] - node2[0])**2 + (node1[1] - node2[1])**2)**0.5\n",
    "    pass\n"
   ]
  },
  {
   "cell_type": "code",
   "execution_count": 10,
   "metadata": {},
   "outputs": [
    {
     "data": {
      "text/plain": [
       "'\\nvisited nodes - mark them as -3 in maze numpy array \\npath- mark them as -1 in maze numpy array\\nand Visualize the maze\\n'"
      ]
     },
     "execution_count": 10,
     "metadata": {},
     "output_type": "execute_result"
    }
   ],
   "source": [
    "import heapq\n",
    "\n",
    "class PriorityQueue:\n",
    "    def __init__(self):\n",
    "        self.elements = []\n",
    "    \n",
    "    def empty(self) -> bool:\n",
    "        return not self.elements\n",
    "    \n",
    "    def put(self, item, priority):\n",
    "        heapq.heappush(self.elements, (priority, item))\n",
    "    \n",
    "    def get(self):\n",
    "        return heapq.heappop(self.elements)[1]\n",
    "\n",
    "def astar_path(graph, start, goal):\n",
    "    '''\n",
    "    para1: connected graph\n",
    "    para2: Starting node\n",
    "    para3: ending Node\n",
    "    return1: list of visited nodes\n",
    "    return2: nodes of shortest path\n",
    "    '''\n",
    "    frontier = PriorityQueue()\n",
    "    frontier.put(start, 0)\n",
    "    came_from= {}\n",
    "    cost_so_far= {}\n",
    "    came_from[start] = None\n",
    "    cost_so_far[start] = 0\n",
    "    while not frontier.empty():\n",
    "        current = frontier.get()\n",
    "        if current == goal:\n",
    "            break\n",
    "        #print(graph[current])\n",
    "        for next in (graph[current]):\n",
    "            maze1[current]=-1\n",
    "            new_cost = cost_so_far[current] + 1\n",
    "            if next not in cost_so_far or new_cost < cost_so_far[next]:\n",
    "                cost_so_far[next] = new_cost\n",
    "                ######\n",
    "                #you can make the interface of 'astar_path' more robust by providing a heuristic as a parameter\n",
    "                ###\n",
    "                priority = new_cost + Euclidean_distance(next, goal)\n",
    "                frontier.put(next, priority)\n",
    "                came_from[next] = current\n",
    "    current= goal\n",
    "    path = []\n",
    "    while current != start: \n",
    "        path.append(current)\n",
    "        #print(came_from[current])\n",
    "        current = came_from[current]\n",
    "    path.append(start) \n",
    "    path.reverse() \n",
    "    return came_from, path\n",
    "'''\n",
    "visited nodes - mark them as -3 in maze numpy array \n",
    "path- mark them as -1 in maze numpy array\n",
    "and Visualize the maze\n",
    "'''    "
   ]
  },
  {
   "cell_type": "code",
   "execution_count": 11,
   "metadata": {},
   "outputs": [],
   "source": [
    "#example for visualization of maze with visited nodes and shortest path\n",
    "# visited nodes are marked by '-3', the final path is marked by '-1'.\n",
    "maze1=build_maze(\"maze_20x20.txt\")\n",
    "graph=Find_the_edges(maze1)\n",
    "visited, path = astar_path(graph, START, GOAL)\n",
    "for i in visited:\n",
    "    maze1[i[0],i[1]]=-3\n",
    "for i in path:\n",
    "    maze1[i[0],i[1]]=-1"
   ]
  },
  {
   "cell_type": "code",
   "execution_count": 12,
   "metadata": {},
   "outputs": [
    {
     "data": {
      "text/plain": [
       "<matplotlib.image.AxesImage at 0x206ed398f70>"
      ]
     },
     "execution_count": 12,
     "metadata": {},
     "output_type": "execute_result"
    },
    {
     "data": {
      "image/png": "[encoded data removed]",
      "text/plain": [
       "<Figure size 432x288 with 1 Axes>"
      ]
     },
     "metadata": {
      "needs_background": "light"
     },
     "output_type": "display_data"
    }
   ],
   "source": [
    "plt.imshow(maze1, cmap='Pastel2')"
   ]
  },
  {
   "cell_type": "markdown",
   "metadata": {},
   "source": [
    "***Dijkstra Algorithm***"
   ]
  },
  {
   "cell_type": "code",
   "execution_count": 13,
   "metadata": {},
   "outputs": [
    {
     "data": {
      "text/plain": [
       "'\\nvisited nodes - mark them as -3 in maze numpy array \\npath- mark them as -1 in maze numpy array\\nand Visualize the maze\\n'"
      ]
     },
     "execution_count": 13,
     "metadata": {},
     "output_type": "execute_result"
    }
   ],
   "source": [
    "\n",
    "def dijkstra_algorithm(graph, start_node, GOAL):\n",
    "    '''\n",
    "    para1: connected graph \n",
    "    para2: Starting node\n",
    "    para3: ending Node\n",
    "    return1: list of visited nodes\n",
    "    return2: nodes of shortest path\n",
    "    '''\n",
    "    unvisited_nodes = list(graph.keys())\n",
    " \n",
    "    # We'll use this dict to save the cost of visiting each node and update it as we move along the graph   \n",
    "    shortest_path = {}\n",
    " \n",
    "    # We'll use this dict to save the shortest known path to a node found so far\n",
    "    previous_nodes = {}\n",
    " \n",
    "    # We'll use max_value to initialize the \"infinity\" value of the unvisited nodes   \n",
    "    max_value = sys.maxsize\n",
    "    for node in unvisited_nodes:\n",
    "        shortest_path[node] = max_value\n",
    "    # However, we initialize the starting node's value with 0   \n",
    "    shortest_path[start_node] = 0\n",
    "    \n",
    "    # The algorithm executes until we visit all nodes\n",
    "    while GOAL in unvisited_nodes:\n",
    "        # The code block below finds the node with the lowest score\n",
    "        current_min_node = None\n",
    "        for node in unvisited_nodes: # Iterate over the nodes\n",
    "            if current_min_node == None:\n",
    "                current_min_node = node\n",
    "            elif shortest_path[node] < shortest_path[current_min_node]:\n",
    "                current_min_node = node\n",
    "                \n",
    "        # The code block below retrieves the current node's neighbors and updates their distances\n",
    "        neighbors = graph[current_min_node]\n",
    "        for neighbor in neighbors:\n",
    "            tentative_value = shortest_path[current_min_node] + 1 \n",
    "            if tentative_value < shortest_path[neighbor]:\n",
    "                shortest_path[neighbor] = tentative_value\n",
    "                # We also update the best path to the current node\n",
    "                previous_nodes[neighbor] = current_min_node\n",
    " \n",
    "        # After visiting its neighbors, we mark the node as \"visited\"\n",
    "        unvisited_nodes.remove(current_min_node)\n",
    "\n",
    "    current= GOAL\n",
    "    path = []\n",
    "    while current != START: \n",
    "        path.append(current)\n",
    "        #print(previous_nodes[current])\n",
    "        current = previous_nodes[current]\n",
    "    path.append(START) \n",
    "    path.reverse() \n",
    "    return previous_nodes, path\n",
    "'''\n",
    "visited nodes - mark them as -3 in maze numpy array \n",
    "path- mark them as -1 in maze numpy array\n",
    "and Visualize the maze\n",
    "'''    \n"
   ]
  },
  {
   "cell_type": "code",
   "execution_count": 14,
   "metadata": {},
   "outputs": [],
   "source": [
    "maze1=build_maze(\"maze_20x20.txt\")\n",
    "graph=Find_the_edges(maze1)\n",
    "visited, path = dijkstra_algorithm(graph, START, GOAL)\n",
    "for i in visited:\n",
    "    maze1[i[0],i[1]]=-3\n",
    "for i in path:\n",
    "    maze1[i[0],i[1]]=-1"
   ]
  },
  {
   "cell_type": "code",
   "execution_count": 15,
   "metadata": {},
   "outputs": [
    {
     "data": {
      "text/plain": [
       "<matplotlib.image.AxesImage at 0x206ed405610>"
      ]
     },
     "execution_count": 15,
     "metadata": {},
     "output_type": "execute_result"
    },
    {
     "data": {
      "image/png": "[encoded data removed]",
      "text/plain": [
       "<Figure size 432x288 with 1 Axes>"
      ]
     },
     "metadata": {
      "needs_background": "light"
     },
     "output_type": "display_data"
    }
   ],
   "source": [
    "plt.imshow(maze1, cmap='Pastel2')"
   ]
  },
  {
   "cell_type": "markdown",
   "metadata": {},
   "source": [
    "### Task - 1"
   ]
  },
  {
   "cell_type": "markdown",
   "metadata": {},
   "source": [
    "Build your maze with dimentions 25 x 25 and a similar complexity (number of obstacles/fences) \n",
    "as in the maze provided in 'maze_20x20.txt'. Check that there exists a path between START at the \n",
    "(1, 1) and the GOAL at (25, 25) in your maze. Store your maze to 'my_maze_25x25.txt'. Visualize your maze. \n",
    "Use your maze in the below tasks. "
   ]
  },
  {
   "cell_type": "markdown",
   "metadata": {},
   "source": [
    "# Plotting the maze 25X25"
   ]
  },
  {
   "cell_type": "code",
   "execution_count": 16,
   "metadata": {},
   "outputs": [],
   "source": [
    "def build_maze1(maze_file):\n",
    "    '''\n",
    "    para1: filename of the maze txt file\n",
    "    return mazes as a numpy array walls: 0 - no wall, 1 - wall in the maze\n",
    "    '''\n",
    "    a = open(maze_file, 'r')  \n",
    "    m=[]\n",
    "    for i in a.readlines():\n",
    "        m.append(np.array(i.split(\" \"), dtype=\"int32\"))\n",
    "    return np.array(m)"
   ]
  },
  {
   "cell_type": "code",
   "execution_count": 17,
   "metadata": {},
   "outputs": [
    {
     "data": {
      "text/plain": [
       "<matplotlib.image.AxesImage at 0x206ed461700>"
      ]
     },
     "execution_count": 17,
     "metadata": {},
     "output_type": "execute_result"
    },
    {
     "data": {
      "image/png": "[encoded data removed]",
      "text/plain": [
       "<Figure size 432x288 with 1 Axes>"
      ]
     },
     "metadata": {
      "needs_background": "light"
     },
     "output_type": "display_data"
    }
   ],
   "source": [
    "plt.imshow(build_maze1(\"maze_25x25.txt\"), cmap='Reds')"
   ]
  },
  {
   "cell_type": "code",
   "execution_count": 18,
   "metadata": {},
   "outputs": [],
   "source": [
    "START=(1, 1)\n",
    "GOAL=(24,23)\n",
    "# Goal for 50X50 maze is (1,49)"
   ]
  },
  {
   "cell_type": "code",
   "execution_count": 19,
   "metadata": {},
   "outputs": [],
   "source": [
    "def Find_the_edges(maze):\n",
    "    '''\n",
    "    para1: numpy array of the maze structure\n",
    "    return graph of the connected nodes\n",
    "    '''\n",
    "    graph={}\n",
    "    grid_size=len(maze)\n",
    "    for i in range(grid_size):\n",
    "        for j in range(grid_size):\n",
    "            if(maze[i][j]!=1):\n",
    "                adj=[]\n",
    "                eles=[]\n",
    "                if i - 1 >= 0:\n",
    "                    eles.append((i-1,j))\n",
    "                if i + 1 < grid_size:\n",
    "                    eles.append((i+1,j))\n",
    "                if j - 1 >=0:\n",
    "                    eles.append((i,j-1))\n",
    "                if j+1< grid_size:\n",
    "                    eles.append((i,j+1))\n",
    "                for ele in eles:\n",
    "                    if maze[ele[0]][ele[1]] == 0 or maze[ele[0]][ele[1]]=='3' :\n",
    "                        adj.append((ele[0],ele[1]))\n",
    "                graph[(i,j)]=adj\n",
    "    return graph"
   ]
  },
  {
   "cell_type": "markdown",
   "metadata": {},
   "source": [
    "# Below is just a demo, please go a bit down for Task 2. You will see where it is"
   ]
  },
  {
   "cell_type": "code",
   "execution_count": 20,
   "metadata": {},
   "outputs": [
    {
     "data": {
      "text/plain": [
       "'\\nvisited nodes - mark them as -3 in maze numpy array \\npath- mark them as -1 in maze numpy array\\nand Visualize the maze\\n'"
      ]
     },
     "execution_count": 20,
     "metadata": {},
     "output_type": "execute_result"
    }
   ],
   "source": [
    "from collections import deque\n",
    "def BreadthFirst(graph, start, goal):\n",
    "    '''\n",
    "    para1: connected graph\n",
    "    para2: Starting node\n",
    "    para3: ending Node\n",
    "    return1: list of visited nodes\n",
    "    return2: nodes of shortest path\n",
    "    '''\n",
    "    queue = deque([([start], start)])\n",
    "    visited = set()\n",
    "    \n",
    "    while queue:\n",
    "        path, current = queue.popleft()\n",
    "        #print(path, current)\n",
    "        if current == goal:\n",
    "            #print( path)\n",
    "            return visited, np.array(path)\n",
    "        if current in visited:\n",
    "            continue\n",
    "        #print(current)\n",
    "        visited.add(current)\n",
    "        for neighbour in graph[current]:\n",
    "            #print(graph[current])\n",
    "            p = list(path)\n",
    "            p.append(neighbour)\n",
    "            queue.append((p, neighbour))\n",
    "    return None\n",
    "'''\n",
    "visited nodes - mark them as -3 in maze numpy array \n",
    "path- mark them as -1 in maze numpy array\n",
    "and Visualize the maze\n",
    "'''    "
   ]
  },
  {
   "cell_type": "code",
   "execution_count": 21,
   "metadata": {},
   "outputs": [],
   "source": [
    "#example for visualization of maze with visited nodes and shortest path\n",
    "# visited nodes are marked by '-3', the final path is marked by '-1'.\n",
    "maze1=build_maze(\"maze_25x25.txt\")\n",
    "graph=Find_the_edges(maze1)\n",
    "visited, path = BreadthFirst(graph, START, GOAL)\n",
    "for i in visited:\n",
    "    maze1[i[0],i[1]]=-3\n",
    "for i in path:\n",
    "    maze1[i[0],i[1]]=-1"
   ]
  },
  {
   "cell_type": "code",
   "execution_count": 22,
   "metadata": {},
   "outputs": [
    {
     "data": {
      "text/plain": [
       "<matplotlib.image.AxesImage at 0x206ee4a15e0>"
      ]
     },
     "execution_count": 22,
     "metadata": {},
     "output_type": "execute_result"
    },
    {
     "data": {
      "image/png": "[encoded data removed]",
      "text/plain": [
       "<Figure size 432x288 with 1 Axes>"
      ]
     },
     "metadata": {
      "needs_background": "light"
     },
     "output_type": "display_data"
    }
   ],
   "source": [
    "plt.imshow(maze1, cmap='Pastel2')"
   ]
  },
  {
   "cell_type": "code",
   "execution_count": 23,
   "metadata": {},
   "outputs": [],
   "source": [
    "def Euclidean_distance(node1, node2):\n",
    "    '''\n",
    "    para1: is a tuple which contains the coorinates of the source node\n",
    "    para2: is a tuple which contains the coorinates of the source node\n",
    "    return: Euclidean distance between the 2 nodes\n",
    "    '''\n",
    "    return ((node1[0] - node2[0])**2 + (node1[1] - node2[1])**2)**0.5\n",
    "    pass\n"
   ]
  },
  {
   "cell_type": "code",
   "execution_count": 24,
   "metadata": {},
   "outputs": [
    {
     "data": {
      "text/plain": [
       "'\\nvisited nodes - mark them as -3 in maze numpy array \\npath- mark them as -1 in maze numpy array\\nand Visualize the maze\\n'"
      ]
     },
     "execution_count": 24,
     "metadata": {},
     "output_type": "execute_result"
    }
   ],
   "source": [
    "import heapq\n",
    "\n",
    "class PriorityQueue:\n",
    "    def __init__(self):\n",
    "        self.elements = []\n",
    "    \n",
    "    def empty(self) -> bool:\n",
    "        return not self.elements\n",
    "    \n",
    "    def put(self, item, priority):\n",
    "        heapq.heappush(self.elements, (priority, item))\n",
    "    \n",
    "    def get(self):\n",
    "        return heapq.heappop(self.elements)[1]\n",
    "\n",
    "def astar_path(graph, start, goal):\n",
    "    '''\n",
    "    para1: connected graph\n",
    "    para2: Starting node\n",
    "    para3: ending Node\n",
    "    return1: list of visited nodes\n",
    "    return2: nodes of shortest path\n",
    "    '''\n",
    "    frontier = PriorityQueue()\n",
    "    frontier.put(start, 0)\n",
    "    came_from= {}\n",
    "    cost_so_far= {}\n",
    "    came_from[start] = None\n",
    "    cost_so_far[start] = 0\n",
    "    w=1\n",
    "    while not frontier.empty():\n",
    "        current = frontier.get()\n",
    "        if current == goal:\n",
    "            break\n",
    "        #print(graph[current])\n",
    "        for next in (graph[current]):\n",
    "            maze1[current]=-1\n",
    "            new_cost = cost_so_far[current] + w\n",
    "            if next not in cost_so_far or new_cost < cost_so_far[next]:\n",
    "                cost_so_far[next] = new_cost\n",
    "                ######\n",
    "                #you can make the interface of 'astar_path' more robust by providing a heuristic as a parameter\n",
    "                ###\n",
    "                priority = new_cost + Euclidean_distance(next, goal)\n",
    "                frontier.put(next, priority)\n",
    "                came_from[next] = current\n",
    "    current= goal\n",
    "    path = []\n",
    "    while current != start: \n",
    "        path.append(current)\n",
    "        #print(came_from[current])\n",
    "        current = came_from[current]\n",
    "    path.append(start) \n",
    "    path.reverse() \n",
    "    return came_from, path\n",
    "'''\n",
    "visited nodes - mark them as -3 in maze numpy array \n",
    "path- mark them as -1 in maze numpy array\n",
    "and Visualize the maze\n",
    "'''    "
   ]
  },
  {
   "cell_type": "code",
   "execution_count": 25,
   "metadata": {},
   "outputs": [],
   "source": [
    "#example for visualization of maze with visited nodes and shortest path\n",
    "# visited nodes are marked by '-3', the final path is marked by '-1'.\n",
    "maze_1=build_maze1(\"maze_25x25.txt\")\n",
    "graph=Find_the_edges(maze_1)\n",
    "visited, path = astar_path(graph, START, GOAL)\n",
    "for i in visited:\n",
    "    maze_1[i[0],i[1]]=-3\n",
    "for i in path:\n",
    "    maze_1[i[0],i[1]]=-1"
   ]
  },
  {
   "cell_type": "code",
   "execution_count": 26,
   "metadata": {},
   "outputs": [
    {
     "data": {
      "text/plain": [
       "<matplotlib.image.AxesImage at 0x206ee4c17c0>"
      ]
     },
     "execution_count": 26,
     "metadata": {},
     "output_type": "execute_result"
    },
    {
     "data": {
      "image/png": "[encoded data removed]",
      "text/plain": [
       "<Figure size 432x288 with 1 Axes>"
      ]
     },
     "metadata": {
      "needs_background": "light"
     },
     "output_type": "display_data"
    }
   ],
   "source": [
    "plt.imshow(maze_1, cmap='Pastel2')"
   ]
  },
  {
   "cell_type": "code",
   "execution_count": 27,
   "metadata": {},
   "outputs": [],
   "source": [
    "#Manhattan distance"
   ]
  },
  {
   "cell_type": "code",
   "execution_count": 28,
   "metadata": {},
   "outputs": [],
   "source": [
    "# implement the Manhattan distance between the 2 nodes, and update the code for A* accordingly\n",
    "def Manhattan_distance(node1, node2):\n",
    "    '''\n",
    "    para1: is a tuple which contains the coorinates of the source node\n",
    "    para2: is a tuple which contains the coorinates of the source node\n",
    "    return: Manhattan distance between the 2 nodes\n",
    "    '''\n",
    "    a, b = node1\n",
    "    c, d = node2\n",
    "    distance = abs(a - c) + abs(b - d)\n",
    "    return distance\n",
    "#     refer to https://xlinux.nist.gov/dads/HTML/manhattanDistance.html\n",
    "    pass"
   ]
  },
  {
   "cell_type": "code",
   "execution_count": 29,
   "metadata": {},
   "outputs": [
    {
     "data": {
      "text/plain": [
       "'\\nvisited nodes - mark them as -3 in maze numpy array \\npath- mark them as -1 in maze numpy array\\nand Visualize the maze\\n'"
      ]
     },
     "execution_count": 29,
     "metadata": {},
     "output_type": "execute_result"
    }
   ],
   "source": [
    "import heapq\n",
    "\n",
    "class PriorityQueue:\n",
    "    def __init__(self):\n",
    "        self.elements = []\n",
    "    \n",
    "    def empty(self) -> bool:\n",
    "        return not self.elements\n",
    "    \n",
    "    def put(self, item, priority):\n",
    "        heapq.heappush(self.elements, (priority, item))\n",
    "    \n",
    "    def get(self):\n",
    "        return heapq.heappop(self.elements)[1]\n",
    "\n",
    "def astar_path(graph, start, goal):\n",
    "    '''\n",
    "    para1: connected graph\n",
    "    para2: Starting node\n",
    "    para3: ending Node\n",
    "    return1: list of visited nodes\n",
    "    return2: nodes of shortest path\n",
    "    '''\n",
    "    frontier = PriorityQueue()\n",
    "    frontier.put(start, 0)\n",
    "    came_from= {}\n",
    "    cost_so_far= {}\n",
    "    came_from[start] = None\n",
    "    cost_so_far[start] = 0\n",
    "    w=1\n",
    "    while not frontier.empty():\n",
    "        current = frontier.get()\n",
    "        if current == goal:\n",
    "            break\n",
    "        #print(graph[current])\n",
    "        for next in (graph[current]):\n",
    "            maze1[current]=-1\n",
    "            new_cost = cost_so_far[current] + w\n",
    "            if next not in cost_so_far or new_cost < cost_so_far[next]:\n",
    "                cost_so_far[next] = new_cost\n",
    "                ######\n",
    "                #you can make the interface of 'astar_path' more robust by providing a heuristic as a parameter\n",
    "                ###\n",
    "                priority = new_cost + Manhattan_distance(next, goal)\n",
    "                frontier.put(next, priority)\n",
    "                came_from[next] = current\n",
    "    current= goal\n",
    "    path = []\n",
    "    while current != start: \n",
    "        path.append(current)\n",
    "        #print(came_from[current])\n",
    "        current = came_from[current]\n",
    "    path.append(start) \n",
    "    path.reverse() \n",
    "    return came_from, path\n",
    "'''\n",
    "visited nodes - mark them as -3 in maze numpy array \n",
    "path- mark them as -1 in maze numpy array\n",
    "and Visualize the maze\n",
    "'''    "
   ]
  },
  {
   "cell_type": "code",
   "execution_count": 30,
   "metadata": {},
   "outputs": [],
   "source": [
    "#example for visualization of maze with visited nodes and shortest path\n",
    "# visited nodes are marked by '-3', the final path is marked by '-1'.\n",
    "maze_1=build_maze1(\"maze_25x25.txt\")\n",
    "graph=Find_the_edges(maze_1)\n",
    "visited, path = astar_path(graph, START, GOAL)\n",
    "for i in visited:\n",
    "    maze_1[i[0],i[1]]=-3\n",
    "for i in path:\n",
    "    maze_1[i[0],i[1]]=-1"
   ]
  },
  {
   "cell_type": "code",
   "execution_count": 31,
   "metadata": {},
   "outputs": [
    {
     "data": {
      "text/plain": [
       "<matplotlib.image.AxesImage at 0x206ee560a30>"
      ]
     },
     "execution_count": 31,
     "metadata": {},
     "output_type": "execute_result"
    },
    {
     "data": {
      "image/png": "[encoded data removed]",
      "text/plain": [
       "<Figure size 432x288 with 1 Axes>"
      ]
     },
     "metadata": {
      "needs_background": "light"
     },
     "output_type": "display_data"
    }
   ],
   "source": [
    "plt.imshow(maze_1, cmap='Pastel2')"
   ]
  },
  {
   "cell_type": "code",
   "execution_count": 32,
   "metadata": {},
   "outputs": [
    {
     "name": "stdout",
     "output_type": "stream",
     "text": [
      "46\n"
     ]
    }
   ],
   "source": [
    "print(len(path))"
   ]
  },
  {
   "cell_type": "code",
   "execution_count": 33,
   "metadata": {},
   "outputs": [
    {
     "data": {
      "text/plain": [
       "'\\nvisited nodes - mark them as -3 in maze numpy array \\npath- mark them as -1 in maze numpy array\\nand Visualize the maze\\n'"
      ]
     },
     "execution_count": 33,
     "metadata": {},
     "output_type": "execute_result"
    }
   ],
   "source": [
    "\n",
    "def dijkstra_algorithm(graph, start_node, GOAL):\n",
    "    '''\n",
    "    para1: connected graph \n",
    "    para2: Starting node\n",
    "    para3: ending Node\n",
    "    return1: list of visited nodes\n",
    "    return2: nodes of shortest path\n",
    "    '''\n",
    "    unvisited_nodes = list(graph.keys())\n",
    " \n",
    "    # We'll use this dict to save the cost of visiting each node and update it as we move along the graph   \n",
    "    shortest_path = {}\n",
    " \n",
    "    # We'll use this dict to save the shortest known path to a node found so far\n",
    "    previous_nodes = {}\n",
    " \n",
    "    # We'll use max_value to initialize the \"infinity\" value of the unvisited nodes   \n",
    "    max_value = sys.maxsize\n",
    "    for node in unvisited_nodes:\n",
    "        shortest_path[node] = max_value\n",
    "    # However, we initialize the starting node's value with 0   \n",
    "    shortest_path[start_node] = 0\n",
    "    \n",
    "    # The algorithm executes until we visit all nodes\n",
    "    while GOAL in unvisited_nodes:\n",
    "        # The code block below finds the node with the lowest score\n",
    "        current_min_node = None\n",
    "        for node in unvisited_nodes: # Iterate over the nodes\n",
    "            if current_min_node == None:\n",
    "                current_min_node = node\n",
    "            elif shortest_path[node] < shortest_path[current_min_node]:\n",
    "                current_min_node = node\n",
    "                \n",
    "        # The code block below retrieves the current node's neighbors and updates their distances\n",
    "        neighbors = graph[current_min_node]\n",
    "        for neighbor in neighbors:\n",
    "            tentative_value = shortest_path[current_min_node] + 1 \n",
    "            if tentative_value < shortest_path[neighbor]:\n",
    "                shortest_path[neighbor] = tentative_value\n",
    "                # We also update the best path to the current node\n",
    "                previous_nodes[neighbor] = current_min_node\n",
    " \n",
    "        # After visiting its neighbors, we mark the node as \"visited\"\n",
    "        unvisited_nodes.remove(current_min_node)\n",
    "\n",
    "    current= GOAL\n",
    "    path = []\n",
    "    while current != START: \n",
    "        path.append(current)\n",
    "        #print(previous_nodes[current])\n",
    "        current = previous_nodes[current]\n",
    "    path.append(START) \n",
    "    path.reverse() \n",
    "    return previous_nodes, path\n",
    "'''\n",
    "visited nodes - mark them as -3 in maze numpy array \n",
    "path- mark them as -1 in maze numpy array\n",
    "and Visualize the maze\n",
    "'''    \n"
   ]
  },
  {
   "cell_type": "code",
   "execution_count": 34,
   "metadata": {},
   "outputs": [],
   "source": [
    "maze_1=build_maze1(\"maze_25x25.txt\")\n",
    "graph=Find_the_edges(maze_1)\n",
    "visited, path = dijkstra_algorithm(graph, START, GOAL)\n",
    "for i in visited:\n",
    "    maze_1[i[0],i[1]]=-3\n",
    "for i in path:\n",
    "    maze_1[i[0],i[1]]=-1"
   ]
  },
  {
   "cell_type": "code",
   "execution_count": 35,
   "metadata": {},
   "outputs": [
    {
     "data": {
      "text/plain": [
       "<matplotlib.image.AxesImage at 0x206ee5ba880>"
      ]
     },
     "execution_count": 35,
     "metadata": {},
     "output_type": "execute_result"
    },
    {
     "data": {
      "image/png": "[encoded data removed]",
      "text/plain": [
       "<Figure size 432x288 with 1 Axes>"
      ]
     },
     "metadata": {
      "needs_background": "light"
     },
     "output_type": "display_data"
    }
   ],
   "source": [
    "plt.imshow(maze_1, cmap='Pastel2')"
   ]
  },
  {
   "cell_type": "code",
   "execution_count": 36,
   "metadata": {},
   "outputs": [
    {
     "name": "stdout",
     "output_type": "stream",
     "text": [
      "46\n"
     ]
    }
   ],
   "source": [
    "print(len(path))"
   ]
  },
  {
   "cell_type": "markdown",
   "metadata": {},
   "source": [
    "### Task - 2"
   ]
  },
  {
   "cell_type": "markdown",
   "metadata": {},
   "source": [
    "A* algorithm requires a heuristic function. You will try two following heuristics:\n",
    "- Euclidean distance between the cell coordinates\n",
    "- Manhattan distance between the cell coordinates \n",
    "\n",
    "Run A* with these two heuristic functions for W=1 and find the shortest path and its length in the maze. You can update the interface of astar_path to accept W and a heuristic function"
   ]
  },
  {
   "cell_type": "markdown",
   "metadata": {},
   "source": [
    "# Using Euclidean Function"
   ]
  },
  {
   "cell_type": "code",
   "execution_count": 37,
   "metadata": {},
   "outputs": [],
   "source": [
    "def Euclidean_distance(node1, node2):\n",
    "    return ((node1[0] - node2[0])**2 + (node1[1] - node2[1])**2)**0.5\n",
    "    pass\n"
   ]
  },
  {
   "cell_type": "code",
   "execution_count": 38,
   "metadata": {},
   "outputs": [
    {
     "data": {
      "text/plain": [
       "'\\nvisited nodes - mark them as -3 in maze numpy array \\npath- mark them as -1 in maze numpy array\\nand Visualize the maze\\n'"
      ]
     },
     "execution_count": 38,
     "metadata": {},
     "output_type": "execute_result"
    }
   ],
   "source": [
    "import heapq\n",
    "\n",
    "class PriorityQueue:\n",
    "    def __init__(self):\n",
    "        self.elements = []\n",
    "    \n",
    "    def empty(self) -> bool:\n",
    "        return not self.elements\n",
    "    \n",
    "    def put(self, item, priority):\n",
    "        heapq.heappush(self.elements, (priority, item))\n",
    "    \n",
    "    def get(self):\n",
    "        return heapq.heappop(self.elements)[1]\n",
    "\n",
    "def astar_path(graph, start, goal):\n",
    "    '''\n",
    "    para1: connected graph\n",
    "    para2: Starting node\n",
    "    para3: ending Node\n",
    "    return1: list of visited nodes\n",
    "    return2: nodes of shortest path\n",
    "    '''\n",
    "    frontier = PriorityQueue()\n",
    "    frontier.put(start, 0)\n",
    "    came_from= {}\n",
    "    cost_so_far= {}\n",
    "    came_from[start] = None\n",
    "    cost_so_far[start] = 0\n",
    "    w=1\n",
    "    while not frontier.empty():\n",
    "        current = frontier.get()\n",
    "        if current == goal:\n",
    "            break\n",
    "        #print(graph[current])\n",
    "        for next in (graph[current]):\n",
    "            maze1[current]=-1\n",
    "            new_cost = cost_so_far[current] + w\n",
    "            if next not in cost_so_far or new_cost < cost_so_far[next]:\n",
    "                cost_so_far[next] = new_cost\n",
    "                ######\n",
    "                #you can make the interface of 'astar_path' more robust by providing a heuristic as a parameter\n",
    "                ###\n",
    "                priority = new_cost + Euclidean_distance(next, goal)\n",
    "                frontier.put(next, priority)\n",
    "                came_from[next] = current\n",
    "    current= goal\n",
    "    path = []\n",
    "    while current != start: \n",
    "        path.append(current)\n",
    "        #print(came_from[current])\n",
    "        current = came_from[current]\n",
    "    path.append(start) \n",
    "    path.reverse() \n",
    "    return came_from, path\n",
    "'''\n",
    "visited nodes - mark them as -3 in maze numpy array \n",
    "path- mark them as -1 in maze numpy array\n",
    "and Visualize the maze\n",
    "'''    "
   ]
  },
  {
   "cell_type": "code",
   "execution_count": 39,
   "metadata": {},
   "outputs": [],
   "source": [
    "#example for visualization of maze with visited nodes and shortest path\n",
    "# visited nodes are marked by '-3', the final path is marked by '-1'.\n",
    "maze_1=build_maze1(\"maze_25x25.txt\")\n",
    "graph=Find_the_edges(maze_1)\n",
    "visited, path = astar_path(graph, START, GOAL)\n",
    "for i in visited:\n",
    "    maze_1[i[0],i[1]]=-3\n",
    "for i in path:\n",
    "    maze_1[i[0],i[1]]=-1"
   ]
  },
  {
   "cell_type": "code",
   "execution_count": 40,
   "metadata": {},
   "outputs": [
    {
     "name": "stdout",
     "output_type": "stream",
     "text": [
      "The Length of Shortest Path is 46\n"
     ]
    }
   ],
   "source": [
    "print(\"The Length of Shortest Path is \"+str(len(path)))"
   ]
  },
  {
   "cell_type": "code",
   "execution_count": 41,
   "metadata": {},
   "outputs": [
    {
     "data": {
      "text/plain": [
       "<matplotlib.image.AxesImage at 0x206ee6198e0>"
      ]
     },
     "execution_count": 41,
     "metadata": {},
     "output_type": "execute_result"
    },
    {
     "data": {
      "image/png": "[encoded data removed]",
      "text/plain": [
       "<Figure size 432x288 with 1 Axes>"
      ]
     },
     "metadata": {
      "needs_background": "light"
     },
     "output_type": "display_data"
    }
   ],
   "source": [
    "plt.imshow(maze_1, cmap='Pastel2')"
   ]
  },
  {
   "cell_type": "markdown",
   "metadata": {},
   "source": [
    "# Using Manhattan Function"
   ]
  },
  {
   "cell_type": "code",
   "execution_count": 42,
   "metadata": {},
   "outputs": [],
   "source": [
    "def Manhattan_distance(node1, node2):\n",
    "\n",
    "    a, b = node1\n",
    "    c, d = node2\n",
    "    distance = abs(a - c) + abs(b - d)\n",
    "    return distance\n",
    "\n",
    "    pass"
   ]
  },
  {
   "cell_type": "code",
   "execution_count": 43,
   "metadata": {},
   "outputs": [
    {
     "data": {
      "text/plain": [
       "'\\nvisited nodes - mark them as -3 in maze numpy array \\npath- mark them as -1 in maze numpy array\\nand Visualize the maze\\n'"
      ]
     },
     "execution_count": 43,
     "metadata": {},
     "output_type": "execute_result"
    }
   ],
   "source": [
    "import heapq\n",
    "\n",
    "class PriorityQueue:\n",
    "    def __init__(self):\n",
    "        self.elements = []\n",
    "    \n",
    "    def empty(self) -> bool:\n",
    "        return not self.elements\n",
    "    \n",
    "    def put(self, item, priority):\n",
    "        heapq.heappush(self.elements, (priority, item))\n",
    "    \n",
    "    def get(self):\n",
    "        return heapq.heappop(self.elements)[1]\n",
    "\n",
    "def astar_path(graph, start, goal):\n",
    "    '''\n",
    "    para1: connected graph\n",
    "    para2: Starting node\n",
    "    para3: ending Node\n",
    "    return1: list of visited nodes\n",
    "    return2: nodes of shortest path\n",
    "    '''\n",
    "    frontier = PriorityQueue()\n",
    "    frontier.put(start, 0)\n",
    "    came_from= {}\n",
    "    cost_so_far= {}\n",
    "    came_from[start] = None\n",
    "    cost_so_far[start] = 0\n",
    "    w=1\n",
    "    while not frontier.empty():\n",
    "        current = frontier.get()\n",
    "        if current == goal:\n",
    "            break\n",
    "        #print(graph[current])\n",
    "        for next in (graph[current]):\n",
    "            maze1[current]=-1\n",
    "            new_cost = cost_so_far[current] + w\n",
    "            if next not in cost_so_far or new_cost < cost_so_far[next]:\n",
    "                cost_so_far[next] = new_cost\n",
    "                ######\n",
    "                #you can make the interface of 'astar_path' more robust by providing a heuristic as a parameter\n",
    "                ###\n",
    "                priority = new_cost + Manhattan_distance(next, goal)\n",
    "                frontier.put(next, priority)\n",
    "                came_from[next] = current\n",
    "    current= goal\n",
    "    path = []\n",
    "    while current != start: \n",
    "        path.append(current)\n",
    "        #print(came_from[current])\n",
    "        current = came_from[current]\n",
    "    path.append(start) \n",
    "    path.reverse() \n",
    "    return came_from, path\n",
    "'''\n",
    "visited nodes - mark them as -3 in maze numpy array \n",
    "path- mark them as -1 in maze numpy array\n",
    "and Visualize the maze\n",
    "'''    "
   ]
  },
  {
   "cell_type": "code",
   "execution_count": 44,
   "metadata": {},
   "outputs": [],
   "source": [
    "#example for visualization of maze with visited nodes and shortest path\n",
    "# visited nodes are marked by '-3', the final path is marked by '-1'.\n",
    "maze_1=build_maze1(\"maze_25x25.txt\")\n",
    "graph=Find_the_edges(maze_1)\n",
    "visited, path = astar_path(graph, START, GOAL)\n",
    "for i in visited:\n",
    "    maze_1[i[0],i[1]]=-3\n",
    "for i in path:\n",
    "    maze_1[i[0],i[1]]=-1"
   ]
  },
  {
   "cell_type": "code",
   "execution_count": 45,
   "metadata": {},
   "outputs": [
    {
     "name": "stdout",
     "output_type": "stream",
     "text": [
      "The Length of Shortest Path is 46\n"
     ]
    }
   ],
   "source": [
    "print(\"The Length of Shortest Path is \"+str(len(path)))"
   ]
  },
  {
   "cell_type": "code",
   "execution_count": 46,
   "metadata": {},
   "outputs": [
    {
     "data": {
      "text/plain": [
       "<matplotlib.image.AxesImage at 0x206ee674880>"
      ]
     },
     "execution_count": 46,
     "metadata": {},
     "output_type": "execute_result"
    },
    {
     "data": {
      "image/png": "[encoded data removed]",
      "text/plain": [
       "<Figure size 432x288 with 1 Axes>"
      ]
     },
     "metadata": {
      "needs_background": "light"
     },
     "output_type": "display_data"
    }
   ],
   "source": [
    "plt.imshow(maze_1, cmap='Pastel2')"
   ]
  },
  {
   "cell_type": "markdown",
   "metadata": {},
   "source": []
  },
  {
   "cell_type": "markdown",
   "metadata": {},
   "source": [
    "### Task - 3\n"
   ]
  },
  {
   "cell_type": "markdown",
   "metadata": {},
   "source": [
    "In this task you are asked to solve the maze with 4 different weights, W, in A* for each of the heurstic function mentioned above. Visualize the solution for each W and each heurstic on a separate plot in the same format as in the examle above (see cell 17). ***Chose a broad set of values for W to see the difference.***"
   ]
  },
  {
   "cell_type": "markdown",
   "metadata": {},
   "source": [
    "# Euclidean distance"
   ]
  },
  {
   "cell_type": "code",
   "execution_count": 47,
   "metadata": {},
   "outputs": [],
   "source": [
    "import time"
   ]
  },
  {
   "cell_type": "code",
   "execution_count": 48,
   "metadata": {},
   "outputs": [],
   "source": [
    "tot_time=[]\n",
    "all_weight=[]\n",
    "Nodes_sp=[]"
   ]
  },
  {
   "cell_type": "code",
   "execution_count": 49,
   "metadata": {},
   "outputs": [],
   "source": [
    "def Euclidean_distance(node1, node2):\n",
    "    '''\n",
    "    para1: is a tuple which contains the coorinates of the source node\n",
    "    para2: is a tuple which contains the coorinates of the source node\n",
    "    return: Euclidean distance between the 2 nodes\n",
    "    '''\n",
    "    return ((node1[0] - node2[0])**2 + (node1[1] - node2[1])**2)**0.5\n",
    "    pass\n"
   ]
  },
  {
   "cell_type": "markdown",
   "metadata": {},
   "source": [
    "# weight 0.1"
   ]
  },
  {
   "cell_type": "code",
   "execution_count": 50,
   "metadata": {},
   "outputs": [
    {
     "data": {
      "text/plain": [
       "'\\nvisited nodes - mark them as -3 in maze numpy array \\npath- mark them as -1 in maze numpy array\\nand Visualize the maze\\n'"
      ]
     },
     "execution_count": 50,
     "metadata": {},
     "output_type": "execute_result"
    }
   ],
   "source": [
    "import heapq\n",
    "\n",
    "class PriorityQueue:\n",
    "    def __init__(self):\n",
    "        self.elements = []\n",
    "    \n",
    "    def empty(self) -> bool:\n",
    "        return not self.elements\n",
    "    \n",
    "    def put(self, item, priority):\n",
    "        heapq.heappush(self.elements, (priority, item))\n",
    "    \n",
    "    def get(self):\n",
    "        return heapq.heappop(self.elements)[1]\n",
    "\n",
    "def astar_path(graph, start, goal):\n",
    "    start_time=time.time()\n",
    "    '''\n",
    "    para1: connected graph\n",
    "    para2: Starting node\n",
    "    para3: ending Node\n",
    "    return1: list of visited nodes\n",
    "    return2: nodes of shortest path\n",
    "    '''\n",
    "    frontier = PriorityQueue()\n",
    "    frontier.put(start, 0)\n",
    "    came_from= {}\n",
    "    cost_so_far= {}\n",
    "    came_from[start] = None\n",
    "    cost_so_far[start] = 0\n",
    "    w=0.1\n",
    "    l=[]\n",
    "    \n",
    "    while not frontier.empty():\n",
    "        current = frontier.get()\n",
    "        l.append(current)\n",
    "        if current == goal:\n",
    "            break\n",
    "        #print(graph[current])\n",
    "        for next in (graph[current]):\n",
    "            maze1[current]=-1\n",
    "            new_cost = cost_so_far[current] + w\n",
    "            if next not in cost_so_far or new_cost < cost_so_far[next]:\n",
    "                cost_so_far[next] = new_cost\n",
    "                ######\n",
    "                #you can make the interface of 'astar_path' more robust by providing a heuristic as a parameter\n",
    "                ###\n",
    "                priority = new_cost + Euclidean_distance(next, goal)\n",
    "                frontier.put(next, priority)\n",
    "                came_from[next] = current\n",
    "    current= goal\n",
    "    path = []\n",
    "    while current != start: \n",
    "        path.append(current)\n",
    "        #print(came_from[current])\n",
    "        current = came_from[current]\n",
    "    path.append(start) \n",
    "    path.reverse() \n",
    "    end_time = time.time()\n",
    "    total=end_time-start_time\n",
    "    print(total)\n",
    "    tot_time.append(total)\n",
    "    all_weight.append(w)\n",
    "    nodesvt=len(l)\n",
    "    Nodes_sp.append(nodesvt)\n",
    "    return came_from, path\n",
    "'''\n",
    "visited nodes - mark them as -3 in maze numpy array \n",
    "path- mark them as -1 in maze numpy array\n",
    "and Visualize the maze\n",
    "'''    "
   ]
  },
  {
   "cell_type": "code",
   "execution_count": 51,
   "metadata": {},
   "outputs": [
    {
     "name": "stdout",
     "output_type": "stream",
     "text": [
      "0.0\n"
     ]
    }
   ],
   "source": [
    "#example for visualization of maze with visited nodes and shortest path\n",
    "# visited nodes are marked by '-3', the final path is marked by '-1'.\n",
    "maze_1=build_maze1(\"maze_25x25.txt\")\n",
    "graph=Find_the_edges(maze_1)\n",
    "visited, path = astar_path(graph, START, GOAL)\n",
    "for i in visited:\n",
    "    maze_1[i[0],i[1]]=-3\n",
    "for i in path:\n",
    "    maze_1[i[0],i[1]]=-1"
   ]
  },
  {
   "cell_type": "code",
   "execution_count": 52,
   "metadata": {},
   "outputs": [
    {
     "data": {
      "text/plain": [
       "<matplotlib.image.AxesImage at 0x206ee6cea30>"
      ]
     },
     "execution_count": 52,
     "metadata": {},
     "output_type": "execute_result"
    },
    {
     "data": {
      "image/png": "[encoded data removed]",
      "text/plain": [
       "<Figure size 432x288 with 1 Axes>"
      ]
     },
     "metadata": {
      "needs_background": "light"
     },
     "output_type": "display_data"
    }
   ],
   "source": [
    "plt.imshow(maze_1, cmap='Pastel2')"
   ]
  },
  {
   "cell_type": "markdown",
   "metadata": {},
   "source": [
    "# weight 0.7"
   ]
  },
  {
   "cell_type": "code",
   "execution_count": 53,
   "metadata": {},
   "outputs": [
    {
     "data": {
      "text/plain": [
       "'\\nvisited nodes - mark them as -3 in maze numpy array \\npath- mark them as -1 in maze numpy array\\nand Visualize the maze\\n'"
      ]
     },
     "execution_count": 53,
     "metadata": {},
     "output_type": "execute_result"
    }
   ],
   "source": [
    "import heapq\n",
    "\n",
    "class PriorityQueue:\n",
    "    def __init__(self):\n",
    "        self.elements = []\n",
    "    \n",
    "    def empty(self) -> bool:\n",
    "        return not self.elements\n",
    "    \n",
    "    def put(self, item, priority):\n",
    "        heapq.heappush(self.elements, (priority, item))\n",
    "    \n",
    "    def get(self):\n",
    "        return heapq.heappop(self.elements)[1]\n",
    "\n",
    "def astar_path(graph, start, goal):\n",
    "    start_time=time.time()\n",
    "    '''\n",
    "    para1: connected graph\n",
    "    para2: Starting node\n",
    "    para3: ending Node\n",
    "    return1: list of visited nodes\n",
    "    return2: nodes of shortest path\n",
    "    '''\n",
    "    frontier = PriorityQueue()\n",
    "    frontier.put(start, 0)\n",
    "    came_from= {}\n",
    "    cost_so_far= {}\n",
    "    came_from[start] = None\n",
    "    cost_so_far[start] = 0\n",
    "    w=0.7\n",
    "    l=[]\n",
    "    while not frontier.empty():\n",
    "        current = frontier.get()\n",
    "        l.append(current)\n",
    "        if current == goal:\n",
    "            break\n",
    "        #print(graph[current])\n",
    "        for next in (graph[current]):\n",
    "            maze1[current]=-1\n",
    "            new_cost = cost_so_far[current] + w\n",
    "            if next not in cost_so_far or new_cost < cost_so_far[next]:\n",
    "                cost_so_far[next] = new_cost\n",
    "                ######\n",
    "                #you can make the interface of 'astar_path' more robust by providing a heuristic as a parameter\n",
    "                ###\n",
    "                priority = new_cost + Euclidean_distance(next, goal)\n",
    "                frontier.put(next, priority)\n",
    "                came_from[next] = current\n",
    "    current= goal\n",
    "    path = []\n",
    "    while current != start: \n",
    "        path.append(current)\n",
    "        #print(came_from[current])\n",
    "        current = came_from[current]\n",
    "    path.append(start) \n",
    "    path.reverse() \n",
    "    end_time = time.time()\n",
    "    total=end_time-start_time\n",
    "    print(total)\n",
    "    tot_time.append(total)\n",
    "    all_weight.append(w)\n",
    "    nodesvt=len(l)\n",
    "    Nodes_sp.append(nodesvt)\n",
    "    return came_from, path\n",
    "'''\n",
    "visited nodes - mark them as -3 in maze numpy array \n",
    "path- mark them as -1 in maze numpy array\n",
    "and Visualize the maze\n",
    "'''    "
   ]
  },
  {
   "cell_type": "code",
   "execution_count": 54,
   "metadata": {},
   "outputs": [
    {
     "name": "stdout",
     "output_type": "stream",
     "text": [
      "0.00099945068359375\n"
     ]
    }
   ],
   "source": [
    "#example for visualization of maze with visited nodes and shortest path\n",
    "# visited nodes are marked by '-3', the final path is marked by '-1'.\n",
    "maze_1=build_maze1(\"maze_25x25.txt\")\n",
    "graph=Find_the_edges(maze_1)\n",
    "visited, path = astar_path(graph, START, GOAL)\n",
    "for i in visited:\n",
    "    maze_1[i[0],i[1]]=-3\n",
    "for i in path:\n",
    "    maze_1[i[0],i[1]]=-1"
   ]
  },
  {
   "cell_type": "code",
   "execution_count": 55,
   "metadata": {},
   "outputs": [
    {
     "data": {
      "text/plain": [
       "<matplotlib.image.AxesImage at 0x206ee72e730>"
      ]
     },
     "execution_count": 55,
     "metadata": {},
     "output_type": "execute_result"
    },
    {
     "data": {
      "image/png": "[encoded data removed]",
      "text/plain": [
       "<Figure size 432x288 with 1 Axes>"
      ]
     },
     "metadata": {
      "needs_background": "light"
     },
     "output_type": "display_data"
    }
   ],
   "source": [
    "plt.imshow(maze_1, cmap='Pastel2')"
   ]
  },
  {
   "cell_type": "markdown",
   "metadata": {},
   "source": [
    "# weight 1.4"
   ]
  },
  {
   "cell_type": "code",
   "execution_count": 56,
   "metadata": {},
   "outputs": [
    {
     "data": {
      "text/plain": [
       "'\\nvisited nodes - mark them as -3 in maze numpy array \\npath- mark them as -1 in maze numpy array\\nand Visualize the maze\\n'"
      ]
     },
     "execution_count": 56,
     "metadata": {},
     "output_type": "execute_result"
    }
   ],
   "source": [
    "import heapq\n",
    "\n",
    "class PriorityQueue:\n",
    "    def __init__(self):\n",
    "        self.elements = []\n",
    "    \n",
    "    def empty(self) -> bool:\n",
    "        return not self.elements\n",
    "    \n",
    "    def put(self, item, priority):\n",
    "        heapq.heappush(self.elements, (priority, item))\n",
    "    \n",
    "    def get(self):\n",
    "        return heapq.heappop(self.elements)[1]\n",
    "\n",
    "def astar_path(graph, start, goal):\n",
    "    start_time=time.time()\n",
    "    '''\n",
    "    para1: connected graph\n",
    "    para2: Starting node\n",
    "    para3: ending Node\n",
    "    return1: list of visited nodes\n",
    "    return2: nodes of shortest path\n",
    "    '''\n",
    "    frontier = PriorityQueue()\n",
    "    frontier.put(start, 0)\n",
    "    came_from= {}\n",
    "    cost_so_far= {}\n",
    "    came_from[start] = None\n",
    "    cost_so_far[start] = 0\n",
    "    w=1.4\n",
    "    l=[]\n",
    "    while not frontier.empty():\n",
    "        current = frontier.get()\n",
    "        l.append(current)\n",
    "        if current == goal:\n",
    "            break\n",
    "        #print(graph[current])\n",
    "        for next in (graph[current]):\n",
    "            maze1[current]=-1\n",
    "            new_cost = cost_so_far[current] + w\n",
    "            if next not in cost_so_far or new_cost < cost_so_far[next]:\n",
    "                cost_so_far[next] = new_cost\n",
    "                ######\n",
    "                #you can make the interface of 'astar_path' more robust by providing a heuristic as a parameter\n",
    "                ###\n",
    "                priority = new_cost + Euclidean_distance(next, goal)\n",
    "                frontier.put(next, priority)\n",
    "                came_from[next] = current\n",
    "    current= goal\n",
    "    path = []\n",
    "    while current != start: \n",
    "        path.append(current)\n",
    "        #print(came_from[current])\n",
    "        current = came_from[current]\n",
    "    path.append(start) \n",
    "    path.reverse()\n",
    "    end_time = time.time()\n",
    "    total=end_time-start_time\n",
    "    print(total)\n",
    "    tot_time.append(total)\n",
    "    all_weight.append(w)\n",
    "    nodesvt=len(l)\n",
    "    Nodes_sp.append(nodesvt)\n",
    "    return came_from, path\n",
    "'''\n",
    "visited nodes - mark them as -3 in maze numpy array \n",
    "path- mark them as -1 in maze numpy array\n",
    "and Visualize the maze\n",
    "'''    "
   ]
  },
  {
   "cell_type": "code",
   "execution_count": 57,
   "metadata": {},
   "outputs": [
    {
     "name": "stdout",
     "output_type": "stream",
     "text": [
      "0.0010218620300292969\n"
     ]
    }
   ],
   "source": [
    "#example for visualization of maze with visited nodes and shortest path\n",
    "# visited nodes are marked by '-3', the final path is marked by '-1'.\n",
    "maze_1=build_maze1(\"maze_25x25.txt\")\n",
    "graph=Find_the_edges(maze_1)\n",
    "visited, path = astar_path(graph, START, GOAL)\n",
    "for i in visited:\n",
    "    maze_1[i[0],i[1]]=-3\n",
    "for i in path:\n",
    "    maze_1[i[0],i[1]]=-1"
   ]
  },
  {
   "cell_type": "code",
   "execution_count": 58,
   "metadata": {},
   "outputs": [
    {
     "data": {
      "text/plain": [
       "<matplotlib.image.AxesImage at 0x206ee78d3d0>"
      ]
     },
     "execution_count": 58,
     "metadata": {},
     "output_type": "execute_result"
    },
    {
     "data": {
      "image/png": "[encoded data removed]",
      "text/plain": [
       "<Figure size 432x288 with 1 Axes>"
      ]
     },
     "metadata": {
      "needs_background": "light"
     },
     "output_type": "display_data"
    }
   ],
   "source": [
    "plt.imshow(maze_1, cmap='Pastel2')"
   ]
  },
  {
   "cell_type": "markdown",
   "metadata": {},
   "source": [
    "# weight 1.5"
   ]
  },
  {
   "cell_type": "code",
   "execution_count": 59,
   "metadata": {},
   "outputs": [
    {
     "data": {
      "text/plain": [
       "'\\nvisited nodes - mark them as -3 in maze numpy array \\npath- mark them as -1 in maze numpy array\\nand Visualize the maze\\n'"
      ]
     },
     "execution_count": 59,
     "metadata": {},
     "output_type": "execute_result"
    }
   ],
   "source": [
    "import heapq\n",
    "\n",
    "class PriorityQueue:\n",
    "    def __init__(self):\n",
    "        self.elements = []\n",
    "    \n",
    "    def empty(self) -> bool:\n",
    "        return not self.elements\n",
    "    \n",
    "    def put(self, item, priority):\n",
    "        heapq.heappush(self.elements, (priority, item))\n",
    "    \n",
    "    def get(self):\n",
    "        return heapq.heappop(self.elements)[1]\n",
    "\n",
    "def astar_path(graph, start, goal):\n",
    "    start_time=time.time()\n",
    "    '''\n",
    "    para1: connected graph\n",
    "    para2: Starting node\n",
    "    para3: ending Node\n",
    "    return1: list of visited nodes\n",
    "    return2: nodes of shortest path\n",
    "    '''\n",
    "    frontier = PriorityQueue()\n",
    "    frontier.put(start, 0)\n",
    "    came_from= {}\n",
    "    cost_so_far= {}\n",
    "    came_from[start] = None\n",
    "    cost_so_far[start] = 0\n",
    "    w=1.5\n",
    "    l=[]\n",
    "    while not frontier.empty():\n",
    "        current = frontier.get()\n",
    "        l.append(current)\n",
    "        if current == goal:\n",
    "            break\n",
    "        #print(graph[current])\n",
    "        for next in (graph[current]):\n",
    "            maze1[current]=-1\n",
    "            new_cost = cost_so_far[current] + w\n",
    "            if next not in cost_so_far or new_cost < cost_so_far[next]:\n",
    "                cost_so_far[next] = new_cost\n",
    "                ######\n",
    "                #you can make the interface of 'astar_path' more robust by providing a heuristic as a parameter\n",
    "                ###\n",
    "                priority = new_cost + Euclidean_distance(next, goal)\n",
    "                frontier.put(next, priority)\n",
    "                came_from[next] = current\n",
    "    current= goal\n",
    "    path = []\n",
    "    while current != start: \n",
    "        path.append(current)\n",
    "        #print(came_from[current])\n",
    "        current = came_from[current]\n",
    "    path.append(start) \n",
    "    path.reverse() \n",
    "    end_time = time.time()\n",
    "    total=end_time-start_time\n",
    "    print(total)\n",
    "    tot_time.append(total)\n",
    "    all_weight.append(w)\n",
    "    nodesvt=len(l)\n",
    "    Nodes_sp.append(nodesvt)\n",
    "    return came_from, path\n",
    "'''\n",
    "visited nodes - mark them as -3 in maze numpy array \n",
    "path- mark them as -1 in maze numpy array\n",
    "and Visualize the maze\n",
    "'''    "
   ]
  },
  {
   "cell_type": "code",
   "execution_count": 60,
   "metadata": {},
   "outputs": [
    {
     "name": "stdout",
     "output_type": "stream",
     "text": [
      "0.0009670257568359375\n"
     ]
    }
   ],
   "source": [
    "#example for visualization of maze with visited nodes and shortest path\n",
    "# visited nodes are marked by '-3', the final path is marked by '-1'.\n",
    "maze_1=build_maze1(\"maze_25x25.txt\")\n",
    "graph=Find_the_edges(maze_1)\n",
    "visited, path = astar_path(graph, START, GOAL)\n",
    "for i in visited:\n",
    "    maze_1[i[0],i[1]]=-3\n",
    "for i in path:\n",
    "    maze_1[i[0],i[1]]=-1"
   ]
  },
  {
   "cell_type": "code",
   "execution_count": 61,
   "metadata": {},
   "outputs": [
    {
     "data": {
      "text/plain": [
       "<matplotlib.image.AxesImage at 0x206ee7e70a0>"
      ]
     },
     "execution_count": 61,
     "metadata": {},
     "output_type": "execute_result"
    },
    {
     "data": {
      "image/png": "[encoded data removed]",
      "text/plain": [
       "<Figure size 432x288 with 1 Axes>"
      ]
     },
     "metadata": {
      "needs_background": "light"
     },
     "output_type": "display_data"
    }
   ],
   "source": [
    "plt.imshow(maze_1, cmap='Pastel2')"
   ]
  },
  {
   "cell_type": "markdown",
   "metadata": {},
   "source": [
    "# weight 2.3"
   ]
  },
  {
   "cell_type": "code",
   "execution_count": 62,
   "metadata": {},
   "outputs": [
    {
     "data": {
      "text/plain": [
       "'\\nvisited nodes - mark them as -3 in maze numpy array \\npath- mark them as -1 in maze numpy array\\nand Visualize the maze\\n'"
      ]
     },
     "execution_count": 62,
     "metadata": {},
     "output_type": "execute_result"
    }
   ],
   "source": [
    "import heapq\n",
    "\n",
    "class PriorityQueue:\n",
    "    def __init__(self):\n",
    "        self.elements = []\n",
    "    \n",
    "    def empty(self) -> bool:\n",
    "        return not self.elements\n",
    "    \n",
    "    def put(self, item, priority):\n",
    "        heapq.heappush(self.elements, (priority, item))\n",
    "    \n",
    "    def get(self):\n",
    "        return heapq.heappop(self.elements)[1]\n",
    "\n",
    "def astar_path(graph, start, goal):\n",
    "    start_time=time.time()\n",
    "    '''\n",
    "    para1: connected graph\n",
    "    para2: Starting node\n",
    "    para3: ending Node\n",
    "    return1: list of visited nodes\n",
    "    return2: nodes of shortest path\n",
    "    '''\n",
    "    frontier = PriorityQueue()\n",
    "    frontier.put(start, 0)\n",
    "    came_from= {}\n",
    "    cost_so_far= {}\n",
    "    came_from[start] = None\n",
    "    cost_so_far[start] = 0\n",
    "    w=2.3\n",
    "    l=[]\n",
    "    while not frontier.empty():\n",
    "        current = frontier.get()\n",
    "        l.append(current)\n",
    "        if current == goal:\n",
    "            break\n",
    "        #print(graph[current])\n",
    "        for next in (graph[current]):\n",
    "            maze1[current]=-1\n",
    "            new_cost = cost_so_far[current] + w\n",
    "            if next not in cost_so_far or new_cost < cost_so_far[next]:\n",
    "                cost_so_far[next] = new_cost\n",
    "                ######\n",
    "                #you can make the interface of 'astar_path' more robust by providing a heuristic as a parameter\n",
    "                ###\n",
    "                priority = new_cost + Euclidean_distance(next, goal)\n",
    "                frontier.put(next, priority)\n",
    "                came_from[next] = current\n",
    "    current= goal\n",
    "    path = []\n",
    "    while current != start: \n",
    "        path.append(current)\n",
    "        #print(came_from[current])\n",
    "        current = came_from[current]\n",
    "    path.append(start) \n",
    "    path.reverse() \n",
    "    end_time = time.time()\n",
    "    total=end_time-start_time\n",
    "    print(total)\n",
    "    tot_time.append(total)\n",
    "    all_weight.append(w)\n",
    "    nodesvt=len(l)\n",
    "    Nodes_sp.append(nodesvt)\n",
    "    return came_from, path\n",
    "'''\n",
    "visited nodes - mark them as -3 in maze numpy array \n",
    "path- mark them as -1 in maze numpy array\n",
    "and Visualize the maze\n",
    "'''    "
   ]
  },
  {
   "cell_type": "code",
   "execution_count": 63,
   "metadata": {},
   "outputs": [
    {
     "name": "stdout",
     "output_type": "stream",
     "text": [
      "0.0009944438934326172\n"
     ]
    }
   ],
   "source": [
    "#example for visualization of maze with visited nodes and shortest path\n",
    "# visited nodes are marked by '-3', the final path is marked by '-1'.\n",
    "maze_1=build_maze1(\"maze_25x25.txt\")\n",
    "graph=Find_the_edges(maze_1)\n",
    "visited, path = astar_path(graph, START, GOAL)\n",
    "for i in visited:\n",
    "    maze_1[i[0],i[1]]=-3\n",
    "for i in path:\n",
    "    maze_1[i[0],i[1]]=-1"
   ]
  },
  {
   "cell_type": "code",
   "execution_count": 64,
   "metadata": {},
   "outputs": [
    {
     "data": {
      "text/plain": [
       "<matplotlib.image.AxesImage at 0x206ee839d00>"
      ]
     },
     "execution_count": 64,
     "metadata": {},
     "output_type": "execute_result"
    },
    {
     "data": {
      "image/png": "[encoded data removed]",
      "text/plain": [
       "<Figure size 432x288 with 1 Axes>"
      ]
     },
     "metadata": {
      "needs_background": "light"
     },
     "output_type": "display_data"
    }
   ],
   "source": [
    "plt.imshow(maze_1, cmap='Pastel2')"
   ]
  },
  {
   "cell_type": "markdown",
   "metadata": {},
   "source": [
    "# Manhattan Distance"
   ]
  },
  {
   "cell_type": "code",
   "execution_count": 65,
   "metadata": {},
   "outputs": [],
   "source": [
    "tot_time1=[]\n",
    "all_weight1=[]\n",
    "Nodes_sp1=[]"
   ]
  },
  {
   "cell_type": "code",
   "execution_count": 66,
   "metadata": {},
   "outputs": [],
   "source": [
    "# implement the Manhattan distance between the 2 nodes, and update the code for A* accordingly\n",
    "def Manhattan_distance(node1, node2):\n",
    "    '''\n",
    "    para1: is a tuple which contains the coorinates of the source node\n",
    "    para2: is a tuple which contains the coorinates of the source node\n",
    "    return: Manhattan distance between the 2 nodes\n",
    "    '''\n",
    "    a, b = node1\n",
    "    c, d = node2\n",
    "    distance = abs(a - c) + abs(b - d)\n",
    "    return distance\n",
    "#     refer to https://xlinux.nist.gov/dads/HTML/manhattanDistance.html\n",
    "    pass"
   ]
  },
  {
   "cell_type": "markdown",
   "metadata": {},
   "source": [
    "# weight=0.2"
   ]
  },
  {
   "cell_type": "code",
   "execution_count": 67,
   "metadata": {},
   "outputs": [
    {
     "data": {
      "text/plain": [
       "'\\nvisited nodes - mark them as -3 in maze numpy array \\npath- mark them as -1 in maze numpy array\\nand Visualize the maze\\n'"
      ]
     },
     "execution_count": 67,
     "metadata": {},
     "output_type": "execute_result"
    }
   ],
   "source": [
    "import heapq\n",
    "\n",
    "class PriorityQueue:\n",
    "    def __init__(self):\n",
    "        self.elements = []\n",
    "    \n",
    "    def empty(self) -> bool:\n",
    "        return not self.elements\n",
    "    \n",
    "    def put(self, item, priority):\n",
    "        heapq.heappush(self.elements, (priority, item))\n",
    "    \n",
    "    def get(self):\n",
    "        return heapq.heappop(self.elements)[1]\n",
    "\n",
    "def astar_path(graph, start, goal):\n",
    "    start_time=time.time()\n",
    "    '''\n",
    "    para1: connected graph\n",
    "    para2: Starting node\n",
    "    para3: ending Node\n",
    "    return1: list of visited nodes\n",
    "    return2: nodes of shortest path\n",
    "    '''\n",
    "    frontier = PriorityQueue()\n",
    "    frontier.put(start, 0)\n",
    "    came_from= {}\n",
    "    cost_so_far= {}\n",
    "    came_from[start] = None\n",
    "    cost_so_far[start] = 0\n",
    "    w=0.2\n",
    "    l=[]\n",
    "    while not frontier.empty():\n",
    "        current = frontier.get()\n",
    "        l.append(current)\n",
    "        if current == goal:\n",
    "            break\n",
    "        #print(graph[current])\n",
    "        for next in (graph[current]):\n",
    "            maze1[current]=-1\n",
    "            new_cost = cost_so_far[current] + w\n",
    "            if next not in cost_so_far or new_cost < cost_so_far[next]:\n",
    "                cost_so_far[next] = new_cost\n",
    "                ######\n",
    "                #you can make the interface of 'astar_path' more robust by providing a heuristic as a parameter\n",
    "                ###\n",
    "                priority = new_cost + Manhattan_distance(next, goal)\n",
    "                frontier.put(next, priority)\n",
    "                came_from[next] = current\n",
    "    current= goal\n",
    "    path = []\n",
    "    while current != start: \n",
    "        path.append(current)\n",
    "        #print(came_from[current])\n",
    "        current = came_from[current]\n",
    "    path.append(start) \n",
    "    path.reverse()\n",
    "    end_time = time.time()\n",
    "    total=end_time-start_time\n",
    "    print(total)\n",
    "    tot_time1.append(total)\n",
    "    all_weight1.append(w)\n",
    "    nodesvt=len(l)\n",
    "    Nodes_sp1.append(nodesvt)\n",
    "    return came_from, path\n",
    "'''\n",
    "visited nodes - mark them as -3 in maze numpy array \n",
    "path- mark them as -1 in maze numpy array\n",
    "and Visualize the maze\n",
    "'''    "
   ]
  },
  {
   "cell_type": "code",
   "execution_count": 68,
   "metadata": {},
   "outputs": [
    {
     "name": "stdout",
     "output_type": "stream",
     "text": [
      "0.0\n"
     ]
    }
   ],
   "source": [
    "#example for visualization of maze with visited nodes and shortest path\n",
    "# visited nodes are marked by '-3', the final path is marked by '-1'.\n",
    "maze_1=build_maze1(\"maze_25x25.txt\")\n",
    "graph=Find_the_edges(maze_1)\n",
    "visited, path = astar_path(graph, START, GOAL)\n",
    "for i in visited:\n",
    "    maze_1[i[0],i[1]]=-3\n",
    "for i in path:\n",
    "    maze_1[i[0],i[1]]=-1"
   ]
  },
  {
   "cell_type": "code",
   "execution_count": 69,
   "metadata": {},
   "outputs": [
    {
     "data": {
      "text/plain": [
       "<matplotlib.image.AxesImage at 0x206ee898ca0>"
      ]
     },
     "execution_count": 69,
     "metadata": {},
     "output_type": "execute_result"
    },
    {
     "data": {
      "image/png": "[encoded data removed]",
      "text/plain": [
       "<Figure size 432x288 with 1 Axes>"
      ]
     },
     "metadata": {
      "needs_background": "light"
     },
     "output_type": "display_data"
    }
   ],
   "source": [
    "plt.imshow(maze_1, cmap='Pastel2')"
   ]
  },
  {
   "cell_type": "markdown",
   "metadata": {},
   "source": [
    "# weight=0.9"
   ]
  },
  {
   "cell_type": "code",
   "execution_count": 70,
   "metadata": {},
   "outputs": [
    {
     "data": {
      "text/plain": [
       "'\\nvisited nodes - mark them as -3 in maze numpy array \\npath- mark them as -1 in maze numpy array\\nand Visualize the maze\\n'"
      ]
     },
     "execution_count": 70,
     "metadata": {},
     "output_type": "execute_result"
    }
   ],
   "source": [
    "import heapq\n",
    "\n",
    "class PriorityQueue:\n",
    "    def __init__(self):\n",
    "        self.elements = []\n",
    "    \n",
    "    def empty(self) -> bool:\n",
    "        return not self.elements\n",
    "    \n",
    "    def put(self, item, priority):\n",
    "        heapq.heappush(self.elements, (priority, item))\n",
    "    \n",
    "    def get(self):\n",
    "        return heapq.heappop(self.elements)[1]\n",
    "\n",
    "def astar_path(graph, start, goal):\n",
    "    start_time=time.time()\n",
    "    '''\n",
    "    para1: connected graph\n",
    "    para2: Starting node\n",
    "    para3: ending Node\n",
    "    return1: list of visited nodes\n",
    "    return2: nodes of shortest path\n",
    "    '''\n",
    "    frontier = PriorityQueue()\n",
    "    frontier.put(start, 0)\n",
    "    came_from= {}\n",
    "    cost_so_far= {}\n",
    "    came_from[start] = None\n",
    "    cost_so_far[start] = 0\n",
    "    w=0.9\n",
    "    l=[]\n",
    "    while not frontier.empty():\n",
    "        current = frontier.get()\n",
    "        l.append(current)\n",
    "        if current == goal:\n",
    "            break\n",
    "        #print(graph[current])\n",
    "        for next in (graph[current]):\n",
    "            maze1[current]=-1\n",
    "            new_cost = cost_so_far[current] + w\n",
    "            if next not in cost_so_far or new_cost < cost_so_far[next]:\n",
    "                cost_so_far[next] = new_cost\n",
    "                ######\n",
    "                #you can make the interface of 'astar_path' more robust by providing a heuristic as a parameter\n",
    "                ###\n",
    "                priority = new_cost + Manhattan_distance(next, goal)\n",
    "                frontier.put(next, priority)\n",
    "                came_from[next] = current\n",
    "    current= goal\n",
    "    path = []\n",
    "    while current != start: \n",
    "        path.append(current)\n",
    "        #print(came_from[current])\n",
    "        current = came_from[current]\n",
    "    path.append(start) \n",
    "    path.reverse() \n",
    "    end_time = time.time()\n",
    "    total=end_time-start_time\n",
    "    print(total)\n",
    "    tot_time1.append(total)\n",
    "    all_weight1.append(w)\n",
    "    nodesvt=len(l)\n",
    "    Nodes_sp1.append(nodesvt)\n",
    "    return came_from, path\n",
    "'''\n",
    "visited nodes - mark them as -3 in maze numpy array \n",
    "path- mark them as -1 in maze numpy array\n",
    "and Visualize the maze\n",
    "'''    "
   ]
  },
  {
   "cell_type": "code",
   "execution_count": 71,
   "metadata": {},
   "outputs": [
    {
     "name": "stdout",
     "output_type": "stream",
     "text": [
      "0.00099945068359375\n"
     ]
    }
   ],
   "source": [
    "#example for visualization of maze with visited nodes and shortest path\n",
    "# visited nodes are marked by '-3', the final path is marked by '-1'.\n",
    "maze_1=build_maze1(\"maze_25x25.txt\")\n",
    "graph=Find_the_edges(maze_1)\n",
    "visited, path = astar_path(graph, START, GOAL)\n",
    "for i in visited:\n",
    "    maze_1[i[0],i[1]]=-3\n",
    "for i in path:\n",
    "    maze_1[i[0],i[1]]=-1"
   ]
  },
  {
   "cell_type": "code",
   "execution_count": 72,
   "metadata": {},
   "outputs": [
    {
     "data": {
      "text/plain": [
       "<matplotlib.image.AxesImage at 0x206ee7c87f0>"
      ]
     },
     "execution_count": 72,
     "metadata": {},
     "output_type": "execute_result"
    },
    {
     "data": {
      "image/png": "[encoded data removed]",
      "text/plain": [
       "<Figure size 432x288 with 1 Axes>"
      ]
     },
     "metadata": {
      "needs_background": "light"
     },
     "output_type": "display_data"
    }
   ],
   "source": [
    "plt.imshow(maze_1, cmap='Pastel2')"
   ]
  },
  {
   "cell_type": "markdown",
   "metadata": {},
   "source": [
    "# weight=1.5"
   ]
  },
  {
   "cell_type": "code",
   "execution_count": 73,
   "metadata": {},
   "outputs": [
    {
     "data": {
      "text/plain": [
       "'\\nvisited nodes - mark them as -3 in maze numpy array \\npath- mark them as -1 in maze numpy array\\nand Visualize the maze\\n'"
      ]
     },
     "execution_count": 73,
     "metadata": {},
     "output_type": "execute_result"
    }
   ],
   "source": [
    "import heapq\n",
    "\n",
    "class PriorityQueue:\n",
    "    def __init__(self):\n",
    "        self.elements = []\n",
    "    \n",
    "    def empty(self) -> bool:\n",
    "        return not self.elements\n",
    "    \n",
    "    def put(self, item, priority):\n",
    "        heapq.heappush(self.elements, (priority, item))\n",
    "    \n",
    "    def get(self):\n",
    "        return heapq.heappop(self.elements)[1]\n",
    "\n",
    "def astar_path(graph, start, goal):\n",
    "    start_time=time.time()\n",
    "    '''\n",
    "    para1: connected graph\n",
    "    para2: Starting node\n",
    "    para3: ending Node\n",
    "    return1: list of visited nodes\n",
    "    return2: nodes of shortest path\n",
    "    '''\n",
    "    frontier = PriorityQueue()\n",
    "    frontier.put(start, 0)\n",
    "    came_from= {}\n",
    "    cost_so_far= {}\n",
    "    came_from[start] = None\n",
    "    cost_so_far[start] = 0\n",
    "    w=1.5\n",
    "    l=[]\n",
    "    while not frontier.empty():\n",
    "        current = frontier.get()\n",
    "        l.append(current)\n",
    "        if current == goal:\n",
    "            break\n",
    "        #print(graph[current])\n",
    "        for next in (graph[current]):\n",
    "            maze1[current]=-1\n",
    "            new_cost = cost_so_far[current] + w\n",
    "            if next not in cost_so_far or new_cost < cost_so_far[next]:\n",
    "                cost_so_far[next] = new_cost\n",
    "                ######\n",
    "                #you can make the interface of 'astar_path' more robust by providing a heuristic as a parameter\n",
    "                ###\n",
    "                priority = new_cost + Manhattan_distance(next, goal)\n",
    "                frontier.put(next, priority)\n",
    "                came_from[next] = current\n",
    "    current= goal\n",
    "    path = []\n",
    "    while current != start: \n",
    "        path.append(current)\n",
    "        #print(came_from[current])\n",
    "        current = came_from[current]\n",
    "    path.append(start) \n",
    "    path.reverse()\n",
    "    end_time = time.time()\n",
    "    total=end_time-start_time\n",
    "    print(total)\n",
    "    tot_time1.append(total)\n",
    "    all_weight1.append(w)\n",
    "    nodesvt=len(l)\n",
    "    Nodes_sp1.append(nodesvt)\n",
    "    return came_from, path\n",
    "'''\n",
    "visited nodes - mark them as -3 in maze numpy array \n",
    "path- mark them as -1 in maze numpy array\n",
    "and Visualize the maze\n",
    "'''    "
   ]
  },
  {
   "cell_type": "code",
   "execution_count": 74,
   "metadata": {},
   "outputs": [
    {
     "name": "stdout",
     "output_type": "stream",
     "text": [
      "0.000997304916381836\n"
     ]
    }
   ],
   "source": [
    "#example for visualization of maze with visited nodes and shortest path\n",
    "# visited nodes are marked by '-3', the final path is marked by '-1'.\n",
    "maze_1=build_maze1(\"maze_25x25.txt\")\n",
    "graph=Find_the_edges(maze_1)\n",
    "visited, path = astar_path(graph, START, GOAL)\n",
    "for i in visited:\n",
    "    maze_1[i[0],i[1]]=-3\n",
    "for i in path:\n",
    "    maze_1[i[0],i[1]]=-1"
   ]
  },
  {
   "cell_type": "code",
   "execution_count": 75,
   "metadata": {},
   "outputs": [
    {
     "data": {
      "text/plain": [
       "<matplotlib.image.AxesImage at 0x206ee927d90>"
      ]
     },
     "execution_count": 75,
     "metadata": {},
     "output_type": "execute_result"
    },
    {
     "data": {
      "image/png": "[encoded data removed]",
      "text/plain": [
       "<Figure size 432x288 with 1 Axes>"
      ]
     },
     "metadata": {
      "needs_background": "light"
     },
     "output_type": "display_data"
    }
   ],
   "source": [
    "plt.imshow(maze_1, cmap='Pastel2')"
   ]
  },
  {
   "cell_type": "markdown",
   "metadata": {},
   "source": [
    "# weight 3"
   ]
  },
  {
   "cell_type": "code",
   "execution_count": 76,
   "metadata": {},
   "outputs": [
    {
     "data": {
      "text/plain": [
       "'\\nvisited nodes - mark them as -3 in maze numpy array \\npath- mark them as -1 in maze numpy array\\nand Visualize the maze\\n'"
      ]
     },
     "execution_count": 76,
     "metadata": {},
     "output_type": "execute_result"
    }
   ],
   "source": [
    "import heapq\n",
    "\n",
    "class PriorityQueue:\n",
    "    def __init__(self):\n",
    "        self.elements = []\n",
    "    \n",
    "    def empty(self) -> bool:\n",
    "        return not self.elements\n",
    "    \n",
    "    def put(self, item, priority):\n",
    "        heapq.heappush(self.elements, (priority, item))\n",
    "    \n",
    "    def get(self):\n",
    "        return heapq.heappop(self.elements)[1]\n",
    "\n",
    "def astar_path(graph, start, goal):\n",
    "    start_time=time.time()\n",
    "    '''\n",
    "    para1: connected graph\n",
    "    para2: Starting node\n",
    "    para3: ending Node\n",
    "    return1: list of visited nodes\n",
    "    return2: nodes of shortest path\n",
    "    '''\n",
    "    frontier = PriorityQueue()\n",
    "    frontier.put(start, 0)\n",
    "    came_from= {}\n",
    "    cost_so_far= {}\n",
    "    came_from[start] = None\n",
    "    cost_so_far[start] = 0\n",
    "    w=3\n",
    "    l=[]\n",
    "    while not frontier.empty():\n",
    "        current = frontier.get()\n",
    "        l.append(current)\n",
    "        if current == goal:\n",
    "            break\n",
    "        #print(graph[current])\n",
    "        for next in (graph[current]):\n",
    "            maze1[current]=-1\n",
    "            new_cost = cost_so_far[current] + w\n",
    "            if next not in cost_so_far or new_cost < cost_so_far[next]:\n",
    "                cost_so_far[next] = new_cost\n",
    "                ######\n",
    "                #you can make the interface of 'astar_path' more robust by providing a heuristic as a parameter\n",
    "                ###\n",
    "                priority = new_cost + Manhattan_distance(next, goal)\n",
    "                frontier.put(next, priority)\n",
    "                came_from[next] = current\n",
    "    current= goal\n",
    "    path = []\n",
    "    while current != start: \n",
    "        path.append(current)\n",
    "        #print(came_from[current])\n",
    "        current = came_from[current]\n",
    "    path.append(start) \n",
    "    path.reverse() \n",
    "    end_time = time.time()\n",
    "    total=end_time-start_time\n",
    "    print(total)\n",
    "    tot_time1.append(total)\n",
    "    all_weight1.append(w)\n",
    "    nodesvt=len(l)\n",
    "    Nodes_sp1.append(nodesvt)\n",
    "    return came_from, path\n",
    "'''\n",
    "visited nodes - mark them as -3 in maze numpy array \n",
    "path- mark them as -1 in maze numpy array\n",
    "and Visualize the maze\n",
    "'''    "
   ]
  },
  {
   "cell_type": "code",
   "execution_count": 77,
   "metadata": {},
   "outputs": [
    {
     "name": "stdout",
     "output_type": "stream",
     "text": [
      "0.0010311603546142578\n"
     ]
    }
   ],
   "source": [
    "#example for visualization of maze with visited nodes and shortest path\n",
    "# visited nodes are marked by '-3', the final path is marked by '-1'.\n",
    "maze_1=build_maze1(\"maze_25x25.txt\")\n",
    "graph=Find_the_edges(maze_1)\n",
    "visited, path = astar_path(graph, START, GOAL)\n",
    "for i in visited:\n",
    "    maze_1[i[0],i[1]]=-3\n",
    "for i in path:\n",
    "    maze_1[i[0],i[1]]=-1"
   ]
  },
  {
   "cell_type": "code",
   "execution_count": 78,
   "metadata": {},
   "outputs": [
    {
     "data": {
      "text/plain": [
       "<matplotlib.image.AxesImage at 0x206ee981b20>"
      ]
     },
     "execution_count": 78,
     "metadata": {},
     "output_type": "execute_result"
    },
    {
     "data": {
      "image/png": "[encoded data removed]",
      "text/plain": [
       "<Figure size 432x288 with 1 Axes>"
      ]
     },
     "metadata": {
      "needs_background": "light"
     },
     "output_type": "display_data"
    }
   ],
   "source": [
    "plt.imshow(maze_1, cmap='Pastel2')"
   ]
  },
  {
   "cell_type": "markdown",
   "metadata": {},
   "source": [
    "# weight 5"
   ]
  },
  {
   "cell_type": "code",
   "execution_count": 79,
   "metadata": {},
   "outputs": [
    {
     "data": {
      "text/plain": [
       "'\\nvisited nodes - mark them as -3 in maze numpy array \\npath- mark them as -1 in maze numpy array\\nand Visualize the maze\\n'"
      ]
     },
     "execution_count": 79,
     "metadata": {},
     "output_type": "execute_result"
    }
   ],
   "source": [
    "import heapq\n",
    "\n",
    "class PriorityQueue:\n",
    "    def __init__(self):\n",
    "        self.elements = []\n",
    "    \n",
    "    def empty(self) -> bool:\n",
    "        return not self.elements\n",
    "    \n",
    "    def put(self, item, priority):\n",
    "        heapq.heappush(self.elements, (priority, item))\n",
    "    \n",
    "    def get(self):\n",
    "        return heapq.heappop(self.elements)[1]\n",
    "\n",
    "def astar_path(graph, start, goal):\n",
    "    start_time=time.time()\n",
    "    '''\n",
    "    para1: connected graph\n",
    "    para2: Starting node\n",
    "    para3: ending Node\n",
    "    return1: list of visited nodes\n",
    "    return2: nodes of shortest path\n",
    "    '''\n",
    "    frontier = PriorityQueue()\n",
    "    frontier.put(start, 0)\n",
    "    came_from= {}\n",
    "    cost_so_far= {}\n",
    "    came_from[start] = None\n",
    "    cost_so_far[start] = 0\n",
    "    w=5\n",
    "    l=[]\n",
    "    while not frontier.empty():\n",
    "        current = frontier.get()\n",
    "        l.append(current)\n",
    "        if current == goal:\n",
    "            break\n",
    "        #print(graph[current])\n",
    "        for next in (graph[current]):\n",
    "            maze1[current]=-1\n",
    "            new_cost = cost_so_far[current] + w\n",
    "            if next not in cost_so_far or new_cost < cost_so_far[next]:\n",
    "                cost_so_far[next] = new_cost\n",
    "                ######\n",
    "                #you can make the interface of 'astar_path' more robust by providing a heuristic as a parameter\n",
    "                ###\n",
    "                priority = new_cost + Manhattan_distance(next, goal)\n",
    "                frontier.put(next, priority)\n",
    "                came_from[next] = current\n",
    "    current= goal\n",
    "    path = []\n",
    "    while current != start: \n",
    "        path.append(current)\n",
    "        #print(came_from[current])\n",
    "        current = came_from[current]\n",
    "    path.append(start) \n",
    "    path.reverse()\n",
    "    end_time = time.time()\n",
    "    total=end_time-start_time\n",
    "    print(total)\n",
    "    tot_time1.append(total)\n",
    "    all_weight1.append(w)\n",
    "    nodesvt=len(l)\n",
    "    Nodes_sp1.append(nodesvt)\n",
    "    return came_from, path\n",
    "'''\n",
    "visited nodes - mark them as -3 in maze numpy array \n",
    "path- mark them as -1 in maze numpy array\n",
    "and Visualize the maze\n",
    "'''    "
   ]
  },
  {
   "cell_type": "code",
   "execution_count": 80,
   "metadata": {},
   "outputs": [
    {
     "name": "stdout",
     "output_type": "stream",
     "text": [
      "0.0009968280792236328\n"
     ]
    }
   ],
   "source": [
    "#example for visualization of maze with visited nodes and shortest path\n",
    "# visited nodes are marked by '-3', the final path is marked by '-1'.\n",
    "maze_1=build_maze1(\"maze_25x25.txt\")\n",
    "graph=Find_the_edges(maze_1)\n",
    "visited, path = astar_path(graph, START, GOAL)\n",
    "for i in visited:\n",
    "    maze_1[i[0],i[1]]=-3\n",
    "for i in path:\n",
    "    maze_1[i[0],i[1]]=-1"
   ]
  },
  {
   "cell_type": "code",
   "execution_count": 81,
   "metadata": {},
   "outputs": [
    {
     "data": {
      "text/plain": [
       "<matplotlib.image.AxesImage at 0x206ee99cd60>"
      ]
     },
     "execution_count": 81,
     "metadata": {},
     "output_type": "execute_result"
    },
    {
     "data": {
      "image/png": "[encoded data removed]",
      "text/plain": [
       "<Figure size 432x288 with 1 Axes>"
      ]
     },
     "metadata": {
      "needs_background": "light"
     },
     "output_type": "display_data"
    }
   ],
   "source": [
    "plt.imshow(maze_1, cmap='Pastel2')"
   ]
  },
  {
   "cell_type": "markdown",
   "metadata": {},
   "source": [
    "Explain what changes you observe for the different weights and why it occurs."
   ]
  },
  {
   "cell_type": "code",
   "execution_count": 82,
   "metadata": {},
   "outputs": [],
   "source": [
    "# Here the 5 different Weights I took for Euclidean are\n",
    "# 1) 1.5\n",
    "# 2) 0.7\n",
    "# 3) 0.1\n",
    "# 4) 2.3\n",
    "# 5) 1.4\n",
    "\n",
    "# Here the 5 different Weights I took for Manhattan are\n",
    "# 1) 1.5\n",
    "# 2) 3\n",
    "# 3) 5\n",
    "# 4) 0.9\n",
    "# 5) 0.2\n",
    "\n",
    "# The difference I saw was that the paths traveled for lower weights as it travelled the least as compared to higher weights, Also more the weights \n",
    "#the more time it took to traverse\n",
    "#The solution was stable around weight = 1\n"
   ]
  },
  {
   "cell_type": "markdown",
   "metadata": {},
   "source": [
    "\n",
    "### Task - 4"
   ]
  },
  {
   "cell_type": "markdown",
   "metadata": {},
   "source": [
    "\n",
    "Plot on plt.subplot(121) a) time taken VS Weights\n",
    "\n",
    "Plot on plt.subplot(122) b) search space (expanded nodes) VS Weights\n",
    "\n",
    "-- add titles, axis labels, and legends."
   ]
  },
  {
   "cell_type": "code",
   "execution_count": 83,
   "metadata": {},
   "outputs": [
    {
     "data": {
      "image/png": "[encoded data removed]",
      "text/plain": [
       "<Figure size 1296x720 with 2 Axes>"
      ]
     },
     "metadata": {
      "needs_background": "light"
     },
     "output_type": "display_data"
    }
   ],
   "source": [
    "#print(len(tot_time1))\n",
    "#print(len(all_weight1))\n",
    "#print(len(tot_time))\n",
    "#print(len(all_weight))\n",
    "T = []\n",
    "for element in tot_time:\n",
    "    T.append(element * 1000)\n",
    "plt.subplots(figsize=(18,10))\n",
    "\n",
    "plt.subplot(1, 2, 1)\n",
    "plt.plot(tot_time, all_weight , marker='o', color='b', label='Time vs. Weights')\n",
    "plt.xlabel('Time taken')\n",
    "plt.ylabel('Weights')\n",
    "plt.legend()\n",
    "plt.title('Plot of Time taken VS Weights')\n",
    "\n",
    "plt.subplot(1, 2, 2)\n",
    "plt.plot(Nodes_sp,all_weight, marker='o', color='b', label='Space traversed vs. Weights')\n",
    "plt.xlabel('Nodes_sp')\n",
    "plt.ylabel('Weights')\n",
    "plt.legend()\n",
    "plt.title('Plot of Space traversed VS Weights')\n",
    "\n",
    "\n",
    "plt.show()"
   ]
  },
  {
   "cell_type": "code",
   "execution_count": 84,
   "metadata": {},
   "outputs": [
    {
     "data": {
      "image/png": "[encoded data removed]",
      "text/plain": [
       "<Figure size 1296x720 with 2 Axes>"
      ]
     },
     "metadata": {
      "needs_background": "light"
     },
     "output_type": "display_data"
    }
   ],
   "source": [
    "#print(len(tot_time1))\n",
    "#print(len(all_weight1))\n",
    "#print(len(tot_time))\n",
    "#print(len(all_weight))\n",
    "T = []\n",
    "for element in tot_time:\n",
    "    T.append(element * 1000)\n",
    "plt.subplots(figsize=(18,10))\n",
    "\n",
    "plt.subplot(1, 2, 1)\n",
    "plt.plot(tot_time1, all_weight1 , marker='o', color='r', label='Time vs. Weights')\n",
    "plt.xlabel('Time taken')\n",
    "plt.ylabel('Weights')\n",
    "plt.legend()\n",
    "plt.title('Plot of Time taken VS Weights')\n",
    "\n",
    "plt.subplot(1, 2, 2)\n",
    "plt.plot(Nodes_sp1,all_weight1, marker='o', color='r', label='Space traversed vs. Weights')\n",
    "plt.xlabel('Nodes_sp')\n",
    "plt.ylabel('Weights')\n",
    "plt.legend()\n",
    "plt.title('Plot of Space traversed VS Weights')\n",
    "\n",
    "\n",
    "plt.show()"
   ]
  },
  {
   "cell_type": "markdown",
   "metadata": {},
   "source": [
    "### Task - 5"
   ]
  },
  {
   "cell_type": "markdown",
   "metadata": {},
   "source": [
    "Solve the maze with the Dijkstra algorithm, and visualize the solution in the maze. What is the length of the shortest path?"
   ]
  },
  {
   "cell_type": "code",
   "execution_count": 85,
   "metadata": {},
   "outputs": [
    {
     "data": {
      "text/plain": [
       "'\\nvisited nodes - mark them as -3 in maze numpy array \\npath- mark them as -1 in maze numpy array\\nand Visualize the maze\\n'"
      ]
     },
     "execution_count": 85,
     "metadata": {},
     "output_type": "execute_result"
    }
   ],
   "source": [
    "\n",
    "def dijkstra_algorithm(graph, start_node, GOAL):\n",
    "    '''\n",
    "    para1: connected graph \n",
    "    para2: Starting node\n",
    "    para3: ending Node\n",
    "    return1: list of visited nodes\n",
    "    return2: nodes of shortest path\n",
    "    '''\n",
    "    unvisited_nodes = list(graph.keys())\n",
    " \n",
    "    # We'll use this dict to save the cost of visiting each node and update it as we move along the graph   \n",
    "    shortest_path = {}\n",
    " \n",
    "    # We'll use this dict to save the shortest known path to a node found so far\n",
    "    previous_nodes = {}\n",
    " \n",
    "    # We'll use max_value to initialize the \"infinity\" value of the unvisited nodes   \n",
    "    max_value = sys.maxsize\n",
    "    for node in unvisited_nodes:\n",
    "        shortest_path[node] = max_value\n",
    "    # However, we initialize the starting node's value with 0   \n",
    "    shortest_path[start_node] = 0\n",
    "    \n",
    "    # The algorithm executes until we visit all nodes\n",
    "    while GOAL in unvisited_nodes:\n",
    "        # The code block below finds the node with the lowest score\n",
    "        current_min_node = None\n",
    "        for node in unvisited_nodes: # Iterate over the nodes\n",
    "            if current_min_node == None:\n",
    "                current_min_node = node\n",
    "            elif shortest_path[node] < shortest_path[current_min_node]:\n",
    "                current_min_node = node\n",
    "                \n",
    "        # The code block below retrieves the current node's neighbors and updates their distances\n",
    "        neighbors = graph[current_min_node]\n",
    "        for neighbor in neighbors:\n",
    "            tentative_value = shortest_path[current_min_node] + 1 \n",
    "            if tentative_value < shortest_path[neighbor]:\n",
    "                shortest_path[neighbor] = tentative_value\n",
    "                # We also update the best path to the current node\n",
    "                previous_nodes[neighbor] = current_min_node\n",
    " \n",
    "        # After visiting its neighbors, we mark the node as \"visited\"\n",
    "        unvisited_nodes.remove(current_min_node)\n",
    "\n",
    "    current= GOAL\n",
    "    path = []\n",
    "    while current != START: \n",
    "        path.append(current)\n",
    "        #print(previous_nodes[current])\n",
    "        current = previous_nodes[current]\n",
    "    path.append(START) \n",
    "    path.reverse() \n",
    "    return previous_nodes, path\n",
    "'''\n",
    "visited nodes - mark them as -3 in maze numpy array \n",
    "path- mark them as -1 in maze numpy array\n",
    "and Visualize the maze\n",
    "'''    \n"
   ]
  },
  {
   "cell_type": "code",
   "execution_count": 86,
   "metadata": {},
   "outputs": [],
   "source": [
    "maze_1=build_maze1(\"maze_25x25.txt\")\n",
    "graph=Find_the_edges(maze_1)\n",
    "visited, path = dijkstra_algorithm(graph, START, GOAL)\n",
    "for i in visited:\n",
    "    maze_1[i[0],i[1]]=-3\n",
    "for i in path:\n",
    "    maze_1[i[0],i[1]]=-1"
   ]
  },
  {
   "cell_type": "code",
   "execution_count": 87,
   "metadata": {},
   "outputs": [
    {
     "name": "stdout",
     "output_type": "stream",
     "text": [
      "The Length of Shortest Path is 46\n"
     ]
    }
   ],
   "source": [
    "print(\"The Length of Shortest Path is \"+str(len(path)))"
   ]
  },
  {
   "cell_type": "code",
   "execution_count": 88,
   "metadata": {},
   "outputs": [
    {
     "data": {
      "text/plain": [
       "<matplotlib.image.AxesImage at 0x206eead5d00>"
      ]
     },
     "execution_count": 88,
     "metadata": {},
     "output_type": "execute_result"
    },
    {
     "data": {
      "image/png": "[encoded data removed]",
      "text/plain": [
       "<Figure size 432x288 with 1 Axes>"
      ]
     },
     "metadata": {
      "needs_background": "light"
     },
     "output_type": "display_data"
    }
   ],
   "source": [
    "plt.imshow(maze_1, cmap='Pastel2')"
   ]
  },
  {
   "cell_type": "markdown",
   "metadata": {},
   "source": [
    "### Task - 6"
   ]
  },
  {
   "cell_type": "markdown",
   "metadata": {},
   "source": [
    "Solve the maze with the BFS algorithm, and visualize the solution in the maze. What is the length of the shortest path?"
   ]
  },
  {
   "cell_type": "code",
   "execution_count": 89,
   "metadata": {},
   "outputs": [
    {
     "data": {
      "text/plain": [
       "'\\nvisited nodes - mark them as -3 in maze numpy array \\npath- mark them as -1 in maze numpy array\\nand Visualize the maze\\n'"
      ]
     },
     "execution_count": 89,
     "metadata": {},
     "output_type": "execute_result"
    }
   ],
   "source": [
    "from collections import deque\n",
    "def BreadthFirst(graph, start, goal):\n",
    "    '''\n",
    "    para1: connected graph\n",
    "    para2: Starting node\n",
    "    para3: ending Node\n",
    "    return1: list of visited nodes\n",
    "    return2: nodes of shortest path\n",
    "    '''\n",
    "    queue = deque([([start], start)])\n",
    "    visited = set()\n",
    "    \n",
    "    while queue:\n",
    "        path, current = queue.popleft()\n",
    "        #print(path, current)\n",
    "        if current == goal:\n",
    "            #print( path)\n",
    "            return visited, np.array(path)\n",
    "        if current in visited:\n",
    "            continue\n",
    "        #print(current)\n",
    "        visited.add(current)\n",
    "        for neighbour in graph[current]:\n",
    "            #print(graph[current])\n",
    "            p = list(path)\n",
    "            p.append(neighbour)\n",
    "            queue.append((p, neighbour))\n",
    "    return None\n",
    "'''\n",
    "visited nodes - mark them as -3 in maze numpy array \n",
    "path- mark them as -1 in maze numpy array\n",
    "and Visualize the maze\n",
    "'''    "
   ]
  },
  {
   "cell_type": "code",
   "execution_count": 90,
   "metadata": {},
   "outputs": [],
   "source": [
    "#example for visualization of maze with visited nodes and shortest path\n",
    "# visited nodes are marked by '-3', the final path is marked by '-1'.\n",
    "maze1=build_maze(\"maze_25x25.txt\")\n",
    "graph=Find_the_edges(maze1)\n",
    "visited, path = BreadthFirst(graph, START, GOAL)\n",
    "for i in visited:\n",
    "    maze1[i[0],i[1]]=-3\n",
    "for i in path:\n",
    "    maze1[i[0],i[1]]=-1"
   ]
  },
  {
   "cell_type": "code",
   "execution_count": 91,
   "metadata": {},
   "outputs": [
    {
     "name": "stdout",
     "output_type": "stream",
     "text": [
      "The Length of Shortest Path is 46\n"
     ]
    }
   ],
   "source": [
    "print(\"The Length of Shortest Path is \"+str(len(path)))"
   ]
  },
  {
   "cell_type": "code",
   "execution_count": 92,
   "metadata": {},
   "outputs": [
    {
     "data": {
      "text/plain": [
       "<matplotlib.image.AxesImage at 0x206ef123910>"
      ]
     },
     "execution_count": 92,
     "metadata": {},
     "output_type": "execute_result"
    },
    {
     "data": {
      "image/png": "[encoded data removed]",
      "text/plain": [
       "<Figure size 432x288 with 1 Axes>"
      ]
     },
     "metadata": {
      "needs_background": "light"
     },
     "output_type": "display_data"
    }
   ],
   "source": [
    "plt.imshow(maze1, cmap='Pastel2')"
   ]
  },
  {
   "cell_type": "markdown",
   "metadata": {},
   "source": [
    "### Task - 7"
   ]
  },
  {
   "cell_type": "markdown",
   "metadata": {},
   "source": [
    "Choose 3 random START and GOAL states, and repeat the tasks 2 - 6, and visualize the solution for each. Use W=1 in this task. Explain your observations."
   ]
  },
  {
   "cell_type": "markdown",
   "metadata": {},
   "source": [
    "# CASE 1"
   ]
  },
  {
   "cell_type": "code",
   "execution_count": 93,
   "metadata": {},
   "outputs": [],
   "source": [
    "START=(1, 23)\n",
    "GOAL=(24, 2)"
   ]
  },
  {
   "cell_type": "markdown",
   "metadata": {},
   "source": [
    "# BFS "
   ]
  },
  {
   "cell_type": "code",
   "execution_count": 94,
   "metadata": {},
   "outputs": [
    {
     "data": {
      "text/plain": [
       "'\\nvisited nodes - mark them as -3 in maze numpy array \\npath- mark them as -1 in maze numpy array\\nand Visualize the maze\\n'"
      ]
     },
     "execution_count": 94,
     "metadata": {},
     "output_type": "execute_result"
    }
   ],
   "source": [
    "from collections import deque\n",
    "def BreadthFirst(graph, start, goal):\n",
    "    '''\n",
    "    para1: connected graph\n",
    "    para2: Starting node\n",
    "    para3: ending Node\n",
    "    return1: list of visited nodes\n",
    "    return2: nodes of shortest path\n",
    "    '''\n",
    "    queue = deque([([start], start)])\n",
    "    visited = set()\n",
    "    \n",
    "    while queue:\n",
    "        path, current = queue.popleft()\n",
    "        #print(path, current)\n",
    "        if current == goal:\n",
    "            #print( path)\n",
    "            return visited, np.array(path)\n",
    "        if current in visited:\n",
    "            continue\n",
    "        #print(current)\n",
    "        visited.add(current)\n",
    "        for neighbour in graph[current]:\n",
    "            #print(graph[current])\n",
    "            p = list(path)\n",
    "            p.append(neighbour)\n",
    "            queue.append((p, neighbour))\n",
    "    return None\n",
    "'''\n",
    "visited nodes - mark them as -3 in maze numpy array \n",
    "path- mark them as -1 in maze numpy array\n",
    "and Visualize the maze\n",
    "'''    "
   ]
  },
  {
   "cell_type": "code",
   "execution_count": 95,
   "metadata": {},
   "outputs": [],
   "source": [
    "#example for visualization of maze with visited nodes and shortest path\n",
    "# visited nodes are marked by '-3', the final path is marked by '-1'.\n",
    "maze1=build_maze(\"maze_25x25.txt\")\n",
    "graph=Find_the_edges(maze1)\n",
    "visited, path = BreadthFirst(graph, START, GOAL)\n",
    "for i in visited:\n",
    "    maze1[i[0],i[1]]=-3\n",
    "for i in path:\n",
    "    maze1[i[0],i[1]]=-1"
   ]
  },
  {
   "cell_type": "code",
   "execution_count": 96,
   "metadata": {},
   "outputs": [
    {
     "name": "stdout",
     "output_type": "stream",
     "text": [
      "The Length of Shortest Path is 57\n"
     ]
    }
   ],
   "source": [
    "print(\"The Length of Shortest Path is \"+str(len(path)))"
   ]
  },
  {
   "cell_type": "code",
   "execution_count": 97,
   "metadata": {},
   "outputs": [
    {
     "data": {
      "text/plain": [
       "<matplotlib.image.AxesImage at 0x206ef176cd0>"
      ]
     },
     "execution_count": 97,
     "metadata": {},
     "output_type": "execute_result"
    },
    {
     "data": {
      "image/png": "[encoded data removed]",
      "text/plain": [
       "<Figure size 432x288 with 1 Axes>"
      ]
     },
     "metadata": {
      "needs_background": "light"
     },
     "output_type": "display_data"
    }
   ],
   "source": [
    "plt.imshow(maze1, cmap='Pastel2')"
   ]
  },
  {
   "cell_type": "markdown",
   "metadata": {},
   "source": [
    "# Dijistktra Algorithm"
   ]
  },
  {
   "cell_type": "code",
   "execution_count": 98,
   "metadata": {},
   "outputs": [
    {
     "data": {
      "text/plain": [
       "'\\nvisited nodes - mark them as -3 in maze numpy array \\npath- mark them as -1 in maze numpy array\\nand Visualize the maze\\n'"
      ]
     },
     "execution_count": 98,
     "metadata": {},
     "output_type": "execute_result"
    }
   ],
   "source": [
    "\n",
    "def dijkstra_algorithm(graph, start_node, GOAL):\n",
    "    '''\n",
    "    para1: connected graph \n",
    "    para2: Starting node\n",
    "    para3: ending Node\n",
    "    return1: list of visited nodes\n",
    "    return2: nodes of shortest path\n",
    "    '''\n",
    "    unvisited_nodes = list(graph.keys())\n",
    " \n",
    "    # We'll use this dict to save the cost of visiting each node and update it as we move along the graph   \n",
    "    shortest_path = {}\n",
    " \n",
    "    # We'll use this dict to save the shortest known path to a node found so far\n",
    "    previous_nodes = {}\n",
    " \n",
    "    # We'll use max_value to initialize the \"infinity\" value of the unvisited nodes   \n",
    "    max_value = sys.maxsize\n",
    "    for node in unvisited_nodes:\n",
    "        shortest_path[node] = max_value\n",
    "    # However, we initialize the starting node's value with 0   \n",
    "    shortest_path[start_node] = 0\n",
    "    \n",
    "    # The algorithm executes until we visit all nodes\n",
    "    while GOAL in unvisited_nodes:\n",
    "        # The code block below finds the node with the lowest score\n",
    "        current_min_node = None\n",
    "        for node in unvisited_nodes: # Iterate over the nodes\n",
    "            if current_min_node == None:\n",
    "                current_min_node = node\n",
    "            elif shortest_path[node] < shortest_path[current_min_node]:\n",
    "                current_min_node = node\n",
    "                \n",
    "        # The code block below retrieves the current node's neighbors and updates their distances\n",
    "        neighbors = graph[current_min_node]\n",
    "        for neighbor in neighbors:\n",
    "            tentative_value = shortest_path[current_min_node] + 1 \n",
    "            if tentative_value < shortest_path[neighbor]:\n",
    "                shortest_path[neighbor] = tentative_value\n",
    "                # We also update the best path to the current node\n",
    "                previous_nodes[neighbor] = current_min_node\n",
    " \n",
    "        # After visiting its neighbors, we mark the node as \"visited\"\n",
    "        unvisited_nodes.remove(current_min_node)\n",
    "\n",
    "    current= GOAL\n",
    "    path = []\n",
    "    while current != START: \n",
    "        path.append(current)\n",
    "        #print(previous_nodes[current])\n",
    "        current = previous_nodes[current]\n",
    "    path.append(START) \n",
    "    path.reverse() \n",
    "    return previous_nodes, path\n",
    "'''\n",
    "visited nodes - mark them as -3 in maze numpy array \n",
    "path- mark them as -1 in maze numpy array\n",
    "and Visualize the maze\n",
    "'''    \n"
   ]
  },
  {
   "cell_type": "code",
   "execution_count": 99,
   "metadata": {},
   "outputs": [],
   "source": [
    "#example for visualization of maze with visited nodes and shortest path\n",
    "# visited nodes are marked by '-3', the final path is marked by '-1'.\n",
    "maze1=build_maze(\"maze_25x25.txt\")\n",
    "graph=Find_the_edges(maze1)\n",
    "visited, path = dijkstra_algorithm(graph, START, GOAL)\n",
    "for i in visited:\n",
    "    maze1[i[0],i[1]]=-3\n",
    "for i in path:\n",
    "    maze1[i[0],i[1]]=-1"
   ]
  },
  {
   "cell_type": "code",
   "execution_count": 100,
   "metadata": {},
   "outputs": [
    {
     "name": "stdout",
     "output_type": "stream",
     "text": [
      "The Length of Shortest Path is 57\n"
     ]
    }
   ],
   "source": [
    "print(\"The Length of Shortest Path is \"+str(len(path)))"
   ]
  },
  {
   "cell_type": "code",
   "execution_count": 101,
   "metadata": {},
   "outputs": [
    {
     "data": {
      "text/plain": [
       "<matplotlib.image.AxesImage at 0x206ee7fd5b0>"
      ]
     },
     "execution_count": 101,
     "metadata": {},
     "output_type": "execute_result"
    },
    {
     "data": {
      "image/png": "[encoded data removed]",
      "text/plain": [
       "<Figure size 432x288 with 1 Axes>"
      ]
     },
     "metadata": {
      "needs_background": "light"
     },
     "output_type": "display_data"
    }
   ],
   "source": [
    "plt.imshow(maze1, cmap='Pastel2')"
   ]
  },
  {
   "cell_type": "markdown",
   "metadata": {},
   "source": [
    "# A* Search"
   ]
  },
  {
   "cell_type": "code",
   "execution_count": 102,
   "metadata": {},
   "outputs": [
    {
     "data": {
      "text/plain": [
       "'\\nvisited nodes - mark them as -3 in maze numpy array \\npath- mark them as -1 in maze numpy array\\nand Visualize the maze\\n'"
      ]
     },
     "execution_count": 102,
     "metadata": {},
     "output_type": "execute_result"
    }
   ],
   "source": [
    "import heapq\n",
    "\n",
    "class PriorityQueue:\n",
    "    def __init__(self):\n",
    "        self.elements = []\n",
    "    \n",
    "    def empty(self) -> bool:\n",
    "        return not self.elements\n",
    "    \n",
    "    def put(self, item, priority):\n",
    "        heapq.heappush(self.elements, (priority, item))\n",
    "    \n",
    "    def get(self):\n",
    "        return heapq.heappop(self.elements)[1]\n",
    "\n",
    "def astar_path(graph, start, goal):\n",
    "    #start_time=time.time()\n",
    "    '''\n",
    "    para1: connected graph\n",
    "    para2: Starting node\n",
    "    para3: ending Node\n",
    "    return1: list of visited nodes\n",
    "    return2: nodes of shortest path\n",
    "    '''\n",
    "    frontier = PriorityQueue()\n",
    "    frontier.put(start, 0)\n",
    "    came_from= {}\n",
    "    cost_so_far= {}\n",
    "    came_from[start] = None\n",
    "    cost_so_far[start] = 0\n",
    "    w=1\n",
    "    #l=[]\n",
    "    while not frontier.empty():\n",
    "        current = frontier.get()\n",
    "        #l.append(current)\n",
    "        if current == goal:\n",
    "            break\n",
    "        #print(graph[current])\n",
    "        for next in (graph[current]):\n",
    "            maze1[current]=-1\n",
    "            new_cost = cost_so_far[current] + w\n",
    "            if next not in cost_so_far or new_cost < cost_so_far[next]:\n",
    "                cost_so_far[next] = new_cost\n",
    "                ######\n",
    "                #you can make the interface of 'astar_path' more robust by providing a heuristic as a parameter\n",
    "                ###\n",
    "                priority = new_cost + Manhattan_distance(next, goal)\n",
    "                frontier.put(next, priority)\n",
    "                came_from[next] = current\n",
    "    current= goal\n",
    "    path = []\n",
    "    while current != start: \n",
    "        path.append(current)\n",
    "        #print(came_from[current])\n",
    "        current = came_from[current]\n",
    "    path.append(start) \n",
    "    path.reverse()\n",
    "    #end_time = time.time()\n",
    "    #total=end_time-start_time\n",
    "    #print(total)\n",
    "    #tot_time1.append(total)\n",
    "    #all_weight1.append(w)\n",
    "    #nodesvt=len(l)\n",
    "    #Nodes_sp1.append(nodesvt)\n",
    "    return came_from, path\n",
    "'''\n",
    "visited nodes - mark them as -3 in maze numpy array \n",
    "path- mark them as -1 in maze numpy array\n",
    "and Visualize the maze\n",
    "'''    "
   ]
  },
  {
   "cell_type": "code",
   "execution_count": 103,
   "metadata": {},
   "outputs": [],
   "source": [
    "#example for visualization of maze with visited nodes and shortest path\n",
    "# visited nodes are marked by '-3', the final path is marked by '-1'.\n",
    "maze1=build_maze(\"maze_25x25.txt\")\n",
    "graph=Find_the_edges(maze1)\n",
    "visited, path = astar_path(graph, START, GOAL)\n",
    "for i in visited:\n",
    "    maze1[i[0],i[1]]=-3\n",
    "for i in path:\n",
    "    maze1[i[0],i[1]]=-1"
   ]
  },
  {
   "cell_type": "code",
   "execution_count": 104,
   "metadata": {},
   "outputs": [
    {
     "name": "stdout",
     "output_type": "stream",
     "text": [
      "The Length of Shortest Path is 57\n"
     ]
    }
   ],
   "source": [
    "print(\"The Length of Shortest Path is \"+str(len(path)))"
   ]
  },
  {
   "cell_type": "code",
   "execution_count": 105,
   "metadata": {},
   "outputs": [
    {
     "data": {
      "text/plain": [
       "<matplotlib.image.AxesImage at 0x206eeb6b6d0>"
      ]
     },
     "execution_count": 105,
     "metadata": {},
     "output_type": "execute_result"
    },
    {
     "data": {
      "image/png": "[encoded data removed]",
      "text/plain": [
       "<Figure size 432x288 with 1 Axes>"
      ]
     },
     "metadata": {
      "needs_background": "light"
     },
     "output_type": "display_data"
    }
   ],
   "source": [
    "plt.imshow(maze1, cmap='Pastel2')"
   ]
  },
  {
   "cell_type": "markdown",
   "metadata": {},
   "source": [
    "# CASE 2"
   ]
  },
  {
   "cell_type": "code",
   "execution_count": 106,
   "metadata": {},
   "outputs": [],
   "source": [
    "START=(5, 23)\n",
    "GOAL=(22, 15)\n",
    "# Goal for 50X50 maze is (1,49)"
   ]
  },
  {
   "cell_type": "markdown",
   "metadata": {},
   "source": [
    "# BFS"
   ]
  },
  {
   "cell_type": "code",
   "execution_count": 107,
   "metadata": {},
   "outputs": [],
   "source": [
    "#example for visualization of maze with visited nodes and shortest path\n",
    "# visited nodes are marked by '-3', the final path is marked by '-1'.\n",
    "maze1=build_maze(\"maze_25x25.txt\")\n",
    "graph=Find_the_edges(maze1)\n",
    "visited, path = BreadthFirst(graph, START, GOAL)\n",
    "for i in visited:\n",
    "    maze1[i[0],i[1]]=-3\n",
    "for i in path:\n",
    "    maze1[i[0],i[1]]=-1"
   ]
  },
  {
   "cell_type": "code",
   "execution_count": 108,
   "metadata": {},
   "outputs": [
    {
     "name": "stdout",
     "output_type": "stream",
     "text": [
      "The Length of Shortest Path is 50\n"
     ]
    }
   ],
   "source": [
    "print(\"The Length of Shortest Path is \"+str(len(path)))"
   ]
  },
  {
   "cell_type": "code",
   "execution_count": 109,
   "metadata": {},
   "outputs": [
    {
     "data": {
      "text/plain": [
       "<matplotlib.image.AxesImage at 0x206eea9c8e0>"
      ]
     },
     "execution_count": 109,
     "metadata": {},
     "output_type": "execute_result"
    },
    {
     "data": {
      "image/png": "[encoded data removed]",
      "text/plain": [
       "<Figure size 432x288 with 1 Axes>"
      ]
     },
     "metadata": {
      "needs_background": "light"
     },
     "output_type": "display_data"
    }
   ],
   "source": [
    "plt.imshow(maze1, cmap='Pastel2')"
   ]
  },
  {
   "cell_type": "markdown",
   "metadata": {},
   "source": [
    "# DIJISKTRA ALGORITHM"
   ]
  },
  {
   "cell_type": "code",
   "execution_count": 110,
   "metadata": {},
   "outputs": [],
   "source": [
    "#example for visualization of maze with visited nodes and shortest path\n",
    "# visited nodes are marked by '-3', the final path is marked by '-1'.\n",
    "maze1=build_maze(\"maze_25x25.txt\")\n",
    "graph=Find_the_edges(maze1)\n",
    "visited, path = dijkstra_algorithm(graph, START, GOAL)\n",
    "for i in visited:\n",
    "    maze1[i[0],i[1]]=-3\n",
    "for i in path:\n",
    "    maze1[i[0],i[1]]=-1\n"
   ]
  },
  {
   "cell_type": "code",
   "execution_count": 111,
   "metadata": {},
   "outputs": [
    {
     "name": "stdout",
     "output_type": "stream",
     "text": [
      "The Length of Shortest Path is 50\n"
     ]
    }
   ],
   "source": [
    "print(\"The Length of Shortest Path is \"+str(len(path)))"
   ]
  },
  {
   "cell_type": "code",
   "execution_count": 112,
   "metadata": {},
   "outputs": [
    {
     "data": {
      "text/plain": [
       "<matplotlib.image.AxesImage at 0x206ee9a42b0>"
      ]
     },
     "execution_count": 112,
     "metadata": {},
     "output_type": "execute_result"
    },
    {
     "data": {
      "image/png": "[encoded data removed]",
      "text/plain": [
       "<Figure size 432x288 with 1 Axes>"
      ]
     },
     "metadata": {
      "needs_background": "light"
     },
     "output_type": "display_data"
    }
   ],
   "source": [
    "plt.imshow(maze1, cmap='Pastel2')"
   ]
  },
  {
   "cell_type": "markdown",
   "metadata": {},
   "source": [
    "# A* Search"
   ]
  },
  {
   "cell_type": "code",
   "execution_count": 113,
   "metadata": {},
   "outputs": [],
   "source": [
    "#example for visualization of maze with visited nodes and shortest path\n",
    "# visited nodes are marked by '-3', the final path is marked by '-1'.\n",
    "maze1=build_maze(\"maze_25x25.txt\")\n",
    "graph=Find_the_edges(maze1)\n",
    "visited, path = astar_path(graph, START, GOAL)\n",
    "for i in visited:\n",
    "    maze1[i[0],i[1]]=-3\n",
    "for i in path:\n",
    "    maze1[i[0],i[1]]=-1"
   ]
  },
  {
   "cell_type": "code",
   "execution_count": 114,
   "metadata": {},
   "outputs": [
    {
     "name": "stdout",
     "output_type": "stream",
     "text": [
      "The Length of Shortest Path is 50\n"
     ]
    }
   ],
   "source": [
    "print(\"The Length of Shortest Path is \"+str(len(path)))"
   ]
  },
  {
   "cell_type": "code",
   "execution_count": 115,
   "metadata": {},
   "outputs": [
    {
     "data": {
      "text/plain": [
       "<matplotlib.image.AxesImage at 0x206eeb304c0>"
      ]
     },
     "execution_count": 115,
     "metadata": {},
     "output_type": "execute_result"
    },
    {
     "data": {
      "image/png": "[encoded data removed]",
      "text/plain": [
       "<Figure size 432x288 with 1 Axes>"
      ]
     },
     "metadata": {
      "needs_background": "light"
     },
     "output_type": "display_data"
    }
   ],
   "source": [
    "plt.imshow(maze1, cmap='Pastel2')"
   ]
  },
  {
   "cell_type": "markdown",
   "metadata": {},
   "source": [
    "# CASE 3"
   ]
  },
  {
   "cell_type": "code",
   "execution_count": 116,
   "metadata": {},
   "outputs": [],
   "source": [
    "START=(20, 23)\n",
    "GOAL=(1, 20)\n",
    "# Goal for 50X50 maze is (1,49)"
   ]
  },
  {
   "cell_type": "markdown",
   "metadata": {},
   "source": [
    "# BFS"
   ]
  },
  {
   "cell_type": "code",
   "execution_count": 117,
   "metadata": {},
   "outputs": [],
   "source": [
    "#example for visualization of maze with visited nodes and shortest path\n",
    "# visited nodes are marked by '-3', the final path is marked by '-1'.\n",
    "maze1=build_maze(\"maze_25x25.txt\")\n",
    "graph=Find_the_edges(maze1)\n",
    "visited, path = BreadthFirst(graph, START, GOAL)\n",
    "for i in visited:\n",
    "    maze1[i[0],i[1]]=-3\n",
    "for i in path:\n",
    "    maze1[i[0],i[1]]=-1"
   ]
  },
  {
   "cell_type": "code",
   "execution_count": 118,
   "metadata": {},
   "outputs": [
    {
     "name": "stdout",
     "output_type": "stream",
     "text": [
      "The Length of Shortest Path is 51\n"
     ]
    }
   ],
   "source": [
    "print(\"The Length of Shortest Path is \"+str(len(path)))"
   ]
  },
  {
   "cell_type": "code",
   "execution_count": 119,
   "metadata": {},
   "outputs": [
    {
     "data": {
      "text/plain": [
       "<matplotlib.image.AxesImage at 0x206eebdef40>"
      ]
     },
     "execution_count": 119,
     "metadata": {},
     "output_type": "execute_result"
    },
    {
     "data": {
      "image/png": "[encoded data removed]",
      "text/plain": [
       "<Figure size 432x288 with 1 Axes>"
      ]
     },
     "metadata": {
      "needs_background": "light"
     },
     "output_type": "display_data"
    }
   ],
   "source": [
    "plt.imshow(maze1, cmap='Pastel2')"
   ]
  },
  {
   "cell_type": "markdown",
   "metadata": {},
   "source": [
    "# DIJISKTRA ALGORITHM"
   ]
  },
  {
   "cell_type": "code",
   "execution_count": 120,
   "metadata": {},
   "outputs": [],
   "source": [
    "#example for visualization of maze with visited nodes and shortest path\n",
    "# visited nodes are marked by '-3', the final path is marked by '-1'.\n",
    "maze1=build_maze(\"maze_25x25.txt\")\n",
    "graph=Find_the_edges(maze1)\n",
    "visited, path = dijkstra_algorithm(graph, START, GOAL)\n",
    "for i in visited:\n",
    "    maze1[i[0],i[1]]=-3\n",
    "for i in path:\n",
    "    maze1[i[0],i[1]]=-1\n"
   ]
  },
  {
   "cell_type": "code",
   "execution_count": 121,
   "metadata": {},
   "outputs": [
    {
     "name": "stdout",
     "output_type": "stream",
     "text": [
      "The Length of Shortest Path is 51\n"
     ]
    }
   ],
   "source": [
    "print(\"The Length of Shortest Path is \"+str(len(path)))"
   ]
  },
  {
   "cell_type": "code",
   "execution_count": 122,
   "metadata": {},
   "outputs": [
    {
     "data": {
      "text/plain": [
       "<matplotlib.image.AxesImage at 0x206eec39c10>"
      ]
     },
     "execution_count": 122,
     "metadata": {},
     "output_type": "execute_result"
    },
    {
     "data": {
      "image/png": "[encoded data removed]",
      "text/plain": [
       "<Figure size 432x288 with 1 Axes>"
      ]
     },
     "metadata": {
      "needs_background": "light"
     },
     "output_type": "display_data"
    }
   ],
   "source": [
    "plt.imshow(maze1, cmap='Pastel2')"
   ]
  },
  {
   "cell_type": "markdown",
   "metadata": {},
   "source": [
    "# A* Search"
   ]
  },
  {
   "cell_type": "code",
   "execution_count": 123,
   "metadata": {},
   "outputs": [],
   "source": [
    "#example for visualization of maze with visited nodes and shortest path\n",
    "# visited nodes are marked by '-3', the final path is marked by '-1'.\n",
    "maze1=build_maze(\"maze_25x25.txt\")\n",
    "graph=Find_the_edges(maze1)\n",
    "visited, path = astar_path(graph, START, GOAL)\n",
    "for i in visited:\n",
    "    maze1[i[0],i[1]]=-3\n",
    "for i in path:\n",
    "    maze1[i[0],i[1]]=-1"
   ]
  },
  {
   "cell_type": "code",
   "execution_count": 124,
   "metadata": {},
   "outputs": [
    {
     "name": "stdout",
     "output_type": "stream",
     "text": [
      "The Length of Shortest Path is 51\n"
     ]
    }
   ],
   "source": [
    "print(\"The Length of Shortest Path is \"+str(len(path)))"
   ]
  },
  {
   "cell_type": "code",
   "execution_count": 125,
   "metadata": {},
   "outputs": [
    {
     "data": {
      "text/plain": [
       "<matplotlib.image.AxesImage at 0x206eec954c0>"
      ]
     },
     "execution_count": 125,
     "metadata": {},
     "output_type": "execute_result"
    },
    {
     "data": {
      "image/png": "[encoded data removed]",
      "text/plain": [
       "<Figure size 432x288 with 1 Axes>"
      ]
     },
     "metadata": {
      "needs_background": "light"
     },
     "output_type": "display_data"
    }
   ],
   "source": [
    "plt.imshow(maze1, cmap='Pastel2')"
   ]
  },
  {
   "cell_type": "code",
   "execution_count": 126,
   "metadata": {},
   "outputs": [],
   "source": [
    "#Observations:\n",
    "#on taking different start and end goals the path traversed changes but one thing that remained constant was that A* provided \n",
    "#good solution with least traversal"
   ]
  },
  {
   "cell_type": "markdown",
   "metadata": {},
   "source": [
    "### Task - 8"
   ]
  },
  {
   "cell_type": "markdown",
   "metadata": {},
   "source": [
    "The initally assumation which we made in the Find_the_edges() is the robot can only move in UP, DOWN, LEFT and RIGHT. Now it can move diagonally as well. Modifiy the function and repeat the tasks 1-6 (and visualize the solution for each). Use W=1 in this task (non need in **\"Chose a broad set of values for W to see the difference\"**). Explain your observations"
   ]
  },
  {
   "cell_type": "code",
   "execution_count": 127,
   "metadata": {},
   "outputs": [],
   "source": [
    "def Find_the_edges(maze):\n",
    "    '''\n",
    "    para1: numpy array of the maze structure\n",
    "    return graph of the connected nodes\n",
    "    '''\n",
    "    graph={}\n",
    "    grid_size=len(maze)\n",
    "    for i in range(grid_size):\n",
    "        for j in range(grid_size):\n",
    "            if(maze[i][j]!=1):\n",
    "                adj=[]\n",
    "                eles=[]\n",
    "                if i - 1 >= 0:\n",
    "                    eles.append((i-1,j))\n",
    "                if i + 1 < grid_size:\n",
    "                    eles.append((i+1,j))\n",
    "                if j - 1 >=0:\n",
    "                    eles.append((i,j-1))\n",
    "                if j+1< grid_size:\n",
    "                    eles.append((i,j+1))\n",
    "                if i - 1 >= 0 and j+1< grid_size:\n",
    "                    eles.append((i-1,j+1))\n",
    "                if i + 1 < grid_size and j+1< grid_size:\n",
    "                    eles.append((i+1,j+1))\n",
    "                if j - 1 >=0 and i - 1 >= 0:\n",
    "                    eles.append((i-1,j-1))\n",
    "                if j+1< grid_size and i - 1 >= 0:\n",
    "                    eles.append((i-1,j+1))\n",
    "                    \n",
    "                for ele in eles:\n",
    "                    if maze[ele[0]][ele[1]] == 0 or maze[ele[0]][ele[1]]=='3' :\n",
    "                        adj.append((ele[0],ele[1]))\n",
    "                graph[(i,j)]=adj\n",
    "    return graph"
   ]
  },
  {
   "cell_type": "code",
   "execution_count": 128,
   "metadata": {},
   "outputs": [],
   "source": [
    "def build_maze1(maze_file):\n",
    "    '''\n",
    "    para1: filename of the maze txt file\n",
    "    return mazes as a numpy array walls: 0 - no wall, 1 - wall in the maze\n",
    "    '''\n",
    "    a = open(maze_file, 'r')  \n",
    "    m=[]\n",
    "    for i in a.readlines():\n",
    "        m.append(np.array(i.split(\" \"), dtype=\"int32\"))\n",
    "    return np.array(m)"
   ]
  },
  {
   "cell_type": "code",
   "execution_count": 129,
   "metadata": {},
   "outputs": [
    {
     "data": {
      "text/plain": [
       "<matplotlib.image.AxesImage at 0x206eecec130>"
      ]
     },
     "execution_count": 129,
     "metadata": {},
     "output_type": "execute_result"
    },
    {
     "data": {
      "image/png": "[encoded data removed]",
      "text/plain": [
       "<Figure size 432x288 with 1 Axes>"
      ]
     },
     "metadata": {
      "needs_background": "light"
     },
     "output_type": "display_data"
    }
   ],
   "source": [
    "plt.imshow(build_maze1(\"maze_25x25.txt\"), cmap='Reds')"
   ]
  },
  {
   "cell_type": "code",
   "execution_count": 130,
   "metadata": {},
   "outputs": [],
   "source": [
    "START=(1, 1)\n",
    "GOAL=(24,23)\n",
    "# Goal for 50X50 maze is (1,49)"
   ]
  },
  {
   "cell_type": "markdown",
   "metadata": {},
   "source": [
    "# A* Search"
   ]
  },
  {
   "cell_type": "markdown",
   "metadata": {},
   "source": [
    "# Using Euclidean Distance"
   ]
  },
  {
   "cell_type": "code",
   "execution_count": 131,
   "metadata": {},
   "outputs": [],
   "source": [
    "def Euclidean_distance(node1, node2):\n",
    "    return ((node1[0] - node2[0])**2 + (node1[1] - node2[1])**2)**0.5\n",
    "    pass\n"
   ]
  },
  {
   "cell_type": "code",
   "execution_count": 132,
   "metadata": {},
   "outputs": [
    {
     "data": {
      "text/plain": [
       "'\\nvisited nodes - mark them as -3 in maze numpy array \\npath- mark them as -1 in maze numpy array\\nand Visualize the maze\\n'"
      ]
     },
     "execution_count": 132,
     "metadata": {},
     "output_type": "execute_result"
    }
   ],
   "source": [
    "import heapq\n",
    "\n",
    "class PriorityQueue:\n",
    "    def __init__(self):\n",
    "        self.elements = []\n",
    "    \n",
    "    def empty(self) -> bool:\n",
    "        return not self.elements\n",
    "    \n",
    "    def put(self, item, priority):\n",
    "        heapq.heappush(self.elements, (priority, item))\n",
    "    \n",
    "    def get(self):\n",
    "        return heapq.heappop(self.elements)[1]\n",
    "\n",
    "def astar_path(graph, start, goal):\n",
    "    '''\n",
    "    para1: connected graph\n",
    "    para2: Starting node\n",
    "    para3: ending Node\n",
    "    return1: list of visited nodes\n",
    "    return2: nodes of shortest path\n",
    "    '''\n",
    "    frontier = PriorityQueue()\n",
    "    frontier.put(start, 0)\n",
    "    came_from= {}\n",
    "    cost_so_far= {}\n",
    "    came_from[start] = None\n",
    "    cost_so_far[start] = 0\n",
    "    w=1\n",
    "    while not frontier.empty():\n",
    "        current = frontier.get()\n",
    "        if current == goal:\n",
    "            break\n",
    "        #print(graph[current])\n",
    "        for next in (graph[current]):\n",
    "            maze1[current]=-1\n",
    "            new_cost = cost_so_far[current] + w\n",
    "            if next not in cost_so_far or new_cost < cost_so_far[next]:\n",
    "                cost_so_far[next] = new_cost\n",
    "                ######\n",
    "                #you can make the interface of 'astar_path' more robust by providing a heuristic as a parameter\n",
    "                ###\n",
    "                priority = new_cost + Euclidean_distance(next, goal)\n",
    "                frontier.put(next, priority)\n",
    "                came_from[next] = current\n",
    "    current= goal\n",
    "    path = []\n",
    "    while current != start: \n",
    "        path.append(current)\n",
    "        #print(came_from[current])\n",
    "        current = came_from[current]\n",
    "    path.append(start) \n",
    "    path.reverse() \n",
    "    return came_from, path\n",
    "'''\n",
    "visited nodes - mark them as -3 in maze numpy array \n",
    "path- mark them as -1 in maze numpy array\n",
    "and Visualize the maze\n",
    "'''    "
   ]
  },
  {
   "cell_type": "code",
   "execution_count": 133,
   "metadata": {},
   "outputs": [],
   "source": [
    "#example for visualization of maze with visited nodes and shortest path\n",
    "# visited nodes are marked by '-3', the final path is marked by '-1'.\n",
    "maze_1=build_maze1(\"maze_25x25.txt\")\n",
    "graph=Find_the_edges(maze_1)\n",
    "visited, path = astar_path(graph, START, GOAL)\n",
    "for i in visited:\n",
    "    maze_1[i[0],i[1]]=-3\n",
    "for i in path:\n",
    "    maze_1[i[0],i[1]]=-1"
   ]
  },
  {
   "cell_type": "code",
   "execution_count": 134,
   "metadata": {},
   "outputs": [
    {
     "name": "stdout",
     "output_type": "stream",
     "text": [
      "The Length of Shortest Path is 36\n"
     ]
    }
   ],
   "source": [
    "print(\"The Length of Shortest Path is \"+str(len(path)))"
   ]
  },
  {
   "cell_type": "code",
   "execution_count": 135,
   "metadata": {},
   "outputs": [
    {
     "data": {
      "text/plain": [
       "<matplotlib.image.AxesImage at 0x206eed59070>"
      ]
     },
     "execution_count": 135,
     "metadata": {},
     "output_type": "execute_result"
    },
    {
     "data": {
      "image/png": "[encoded data removed]",
      "text/plain": [
       "<Figure size 432x288 with 1 Axes>"
      ]
     },
     "metadata": {
      "needs_background": "light"
     },
     "output_type": "display_data"
    }
   ],
   "source": [
    "plt.imshow(maze_1, cmap='Pastel2')"
   ]
  },
  {
   "cell_type": "markdown",
   "metadata": {},
   "source": [
    "# Using Manhattan Distance"
   ]
  },
  {
   "cell_type": "code",
   "execution_count": 136,
   "metadata": {},
   "outputs": [],
   "source": [
    "def Manhattan_distance(node1, node2):\n",
    "\n",
    "    a, b = node1\n",
    "    c, d = node2\n",
    "    distance = abs(a - c) + abs(b - d)\n",
    "    return distance\n",
    "\n",
    "    pass"
   ]
  },
  {
   "cell_type": "code",
   "execution_count": 137,
   "metadata": {},
   "outputs": [
    {
     "data": {
      "text/plain": [
       "'\\nvisited nodes - mark them as -3 in maze numpy array \\npath- mark them as -1 in maze numpy array\\nand Visualize the maze\\n'"
      ]
     },
     "execution_count": 137,
     "metadata": {},
     "output_type": "execute_result"
    }
   ],
   "source": [
    "import heapq\n",
    "\n",
    "class PriorityQueue:\n",
    "    def __init__(self):\n",
    "        self.elements = []\n",
    "    \n",
    "    def empty(self) -> bool:\n",
    "        return not self.elements\n",
    "    \n",
    "    def put(self, item, priority):\n",
    "        heapq.heappush(self.elements, (priority, item))\n",
    "    \n",
    "    def get(self):\n",
    "        return heapq.heappop(self.elements)[1]\n",
    "\n",
    "def astar_path(graph, start, goal):\n",
    "    '''\n",
    "    para1: connected graph\n",
    "    para2: Starting node\n",
    "    para3: ending Node\n",
    "    return1: list of visited nodes\n",
    "    return2: nodes of shortest path\n",
    "    '''\n",
    "    frontier = PriorityQueue()\n",
    "    frontier.put(start, 0)\n",
    "    came_from= {}\n",
    "    cost_so_far= {}\n",
    "    came_from[start] = None\n",
    "    cost_so_far[start] = 0\n",
    "    w=1\n",
    "    while not frontier.empty():\n",
    "        current = frontier.get()\n",
    "        if current == goal:\n",
    "            break\n",
    "        #print(graph[current])\n",
    "        for next in (graph[current]):\n",
    "            maze1[current]=-1\n",
    "            new_cost = cost_so_far[current] + w\n",
    "            if next not in cost_so_far or new_cost < cost_so_far[next]:\n",
    "                cost_so_far[next] = new_cost\n",
    "                ######\n",
    "                #you can make the interface of 'astar_path' more robust by providing a heuristic as a parameter\n",
    "                ###\n",
    "                priority = new_cost + Manhattan_distance(next, goal)\n",
    "                frontier.put(next, priority)\n",
    "                came_from[next] = current\n",
    "    current= goal\n",
    "    path = []\n",
    "    while current != start: \n",
    "        path.append(current)\n",
    "        #print(came_from[current])\n",
    "        current = came_from[current]\n",
    "    path.append(start) \n",
    "    path.reverse() \n",
    "    return came_from, path\n",
    "'''\n",
    "visited nodes - mark them as -3 in maze numpy array \n",
    "path- mark them as -1 in maze numpy array\n",
    "and Visualize the maze\n",
    "'''    "
   ]
  },
  {
   "cell_type": "code",
   "execution_count": 138,
   "metadata": {},
   "outputs": [],
   "source": [
    "#example for visualization of maze with visited nodes and shortest path\n",
    "# visited nodes are marked by '-3', the final path is marked by '-1'.\n",
    "maze_1=build_maze1(\"maze_25x25.txt\")\n",
    "graph=Find_the_edges(maze_1)\n",
    "visited, path = astar_path(graph, START, GOAL)\n",
    "for i in visited:\n",
    "    maze_1[i[0],i[1]]=-3\n",
    "for i in path:\n",
    "    maze_1[i[0],i[1]]=-1"
   ]
  },
  {
   "cell_type": "code",
   "execution_count": 139,
   "metadata": {},
   "outputs": [
    {
     "name": "stdout",
     "output_type": "stream",
     "text": [
      "The Length of Shortest Path is 36\n"
     ]
    }
   ],
   "source": [
    "print(\"The Length of Shortest Path is \"+str(len(path)))"
   ]
  },
  {
   "cell_type": "code",
   "execution_count": 140,
   "metadata": {},
   "outputs": [
    {
     "data": {
      "text/plain": [
       "<matplotlib.image.AxesImage at 0x206eedb1f10>"
      ]
     },
     "execution_count": 140,
     "metadata": {},
     "output_type": "execute_result"
    },
    {
     "data": {
      "image/png": "[encoded data removed]",
      "text/plain": [
       "<Figure size 432x288 with 1 Axes>"
      ]
     },
     "metadata": {
      "needs_background": "light"
     },
     "output_type": "display_data"
    }
   ],
   "source": [
    "plt.imshow(maze_1, cmap='Pastel2')"
   ]
  },
  {
   "cell_type": "markdown",
   "metadata": {},
   "source": [
    "# Using BFS"
   ]
  },
  {
   "cell_type": "code",
   "execution_count": 141,
   "metadata": {},
   "outputs": [
    {
     "data": {
      "text/plain": [
       "'\\nvisited nodes - mark them as -3 in maze numpy array \\npath- mark them as -1 in maze numpy array\\nand Visualize the maze\\n'"
      ]
     },
     "execution_count": 141,
     "metadata": {},
     "output_type": "execute_result"
    }
   ],
   "source": [
    "from collections import deque\n",
    "def BreadthFirst(graph, start, goal):\n",
    "    '''\n",
    "    para1: connected graph\n",
    "    para2: Starting node\n",
    "    para3: ending Node\n",
    "    return1: list of visited nodes\n",
    "    return2: nodes of shortest path\n",
    "    '''\n",
    "    queue = deque([([start], start)])\n",
    "    visited = set()\n",
    "    \n",
    "    while queue:\n",
    "        path, current = queue.popleft()\n",
    "        #print(path, current)\n",
    "        if current == goal:\n",
    "            #print( path)\n",
    "            return visited, np.array(path)\n",
    "        if current in visited:\n",
    "            continue\n",
    "        #print(current)\n",
    "        visited.add(current)\n",
    "        for neighbour in graph[current]:\n",
    "            #print(graph[current])\n",
    "            p = list(path)\n",
    "            p.append(neighbour)\n",
    "            queue.append((p, neighbour))\n",
    "    return None\n",
    "'''\n",
    "visited nodes - mark them as -3 in maze numpy array \n",
    "path- mark them as -1 in maze numpy array\n",
    "and Visualize the maze\n",
    "'''    "
   ]
  },
  {
   "cell_type": "code",
   "execution_count": 142,
   "metadata": {},
   "outputs": [],
   "source": [
    "#example for visualization of maze with visited nodes and shortest path\n",
    "# visited nodes are marked by '-3', the final path is marked by '-1'.\n",
    "maze1=build_maze(\"maze_25x25.txt\")\n",
    "graph=Find_the_edges(maze1)\n",
    "visited, path = BreadthFirst(graph, START, GOAL)\n",
    "for i in visited:\n",
    "    maze1[i[0],i[1]]=-3\n",
    "for i in path:\n",
    "    maze1[i[0],i[1]]=-1"
   ]
  },
  {
   "cell_type": "code",
   "execution_count": 143,
   "metadata": {},
   "outputs": [
    {
     "name": "stdout",
     "output_type": "stream",
     "text": [
      "The Length of Shortest Path is 36\n"
     ]
    }
   ],
   "source": [
    "print(\"The Length of Shortest Path is \"+str(len(path)))"
   ]
  },
  {
   "cell_type": "code",
   "execution_count": 144,
   "metadata": {},
   "outputs": [
    {
     "data": {
      "text/plain": [
       "<matplotlib.image.AxesImage at 0x206eee0aca0>"
      ]
     },
     "execution_count": 144,
     "metadata": {},
     "output_type": "execute_result"
    },
    {
     "data": {
      "image/png": "[encoded data removed]",
      "text/plain": [
       "<Figure size 432x288 with 1 Axes>"
      ]
     },
     "metadata": {
      "needs_background": "light"
     },
     "output_type": "display_data"
    }
   ],
   "source": [
    "plt.imshow(maze1, cmap='Pastel2')"
   ]
  },
  {
   "cell_type": "markdown",
   "metadata": {},
   "source": [
    "# Using DFS"
   ]
  },
  {
   "cell_type": "code",
   "execution_count": 145,
   "metadata": {},
   "outputs": [
    {
     "data": {
      "text/plain": [
       "'\\nvisited nodes - mark them as -3 in maze numpy array \\npath- mark them as -1 in maze numpy array\\nand Visualize the maze\\n'"
      ]
     },
     "execution_count": 145,
     "metadata": {},
     "output_type": "execute_result"
    }
   ],
   "source": [
    "\n",
    "def dijkstra_algorithm(graph, start_node, GOAL):\n",
    "    '''\n",
    "    para1: connected graph \n",
    "    para2: Starting node\n",
    "    para3: ending Node\n",
    "    return1: list of visited nodes\n",
    "    return2: nodes of shortest path\n",
    "    '''\n",
    "    unvisited_nodes = list(graph.keys())\n",
    " \n",
    "    # We'll use this dict to save the cost of visiting each node and update it as we move along the graph   \n",
    "    shortest_path = {}\n",
    " \n",
    "    # We'll use this dict to save the shortest known path to a node found so far\n",
    "    previous_nodes = {}\n",
    " \n",
    "    # We'll use max_value to initialize the \"infinity\" value of the unvisited nodes   \n",
    "    max_value = sys.maxsize\n",
    "    for node in unvisited_nodes:\n",
    "        shortest_path[node] = max_value\n",
    "    # However, we initialize the starting node's value with 0   \n",
    "    shortest_path[start_node] = 0\n",
    "    \n",
    "    # The algorithm executes until we visit all nodes\n",
    "    while GOAL in unvisited_nodes:\n",
    "        # The code block below finds the node with the lowest score\n",
    "        current_min_node = None\n",
    "        for node in unvisited_nodes: # Iterate over the nodes\n",
    "            if current_min_node == None:\n",
    "                current_min_node = node\n",
    "            elif shortest_path[node] < shortest_path[current_min_node]:\n",
    "                current_min_node = node\n",
    "                \n",
    "        # The code block below retrieves the current node's neighbors and updates their distances\n",
    "        neighbors = graph[current_min_node]\n",
    "        for neighbor in neighbors:\n",
    "            tentative_value = shortest_path[current_min_node] + 1 \n",
    "            if tentative_value < shortest_path[neighbor]:\n",
    "                shortest_path[neighbor] = tentative_value\n",
    "                # We also update the best path to the current node\n",
    "                previous_nodes[neighbor] = current_min_node\n",
    " \n",
    "        # After visiting its neighbors, we mark the node as \"visited\"\n",
    "        unvisited_nodes.remove(current_min_node)\n",
    "\n",
    "    current= GOAL\n",
    "    path = []\n",
    "    while current != START: \n",
    "        path.append(current)\n",
    "        #print(previous_nodes[current])\n",
    "        current = previous_nodes[current]\n",
    "    path.append(START) \n",
    "    path.reverse() \n",
    "    return previous_nodes, path\n",
    "'''\n",
    "visited nodes - mark them as -3 in maze numpy array \n",
    "path- mark them as -1 in maze numpy array\n",
    "and Visualize the maze\n",
    "'''    \n"
   ]
  },
  {
   "cell_type": "code",
   "execution_count": 146,
   "metadata": {},
   "outputs": [],
   "source": [
    "#example for visualization of maze with visited nodes and shortest path\n",
    "# visited nodes are marked by '-3', the final path is marked by '-1'.\n",
    "maze_1=build_maze1(\"maze_25x25.txt\")\n",
    "graph=Find_the_edges(maze_1)\n",
    "visited, path = dijkstra_algorithm(graph, START, GOAL)\n",
    "for i in visited:\n",
    "    maze_1[i[0],i[1]]=-3\n",
    "for i in path:\n",
    "    maze_1[i[0],i[1]]=-1"
   ]
  },
  {
   "cell_type": "code",
   "execution_count": 147,
   "metadata": {},
   "outputs": [
    {
     "name": "stdout",
     "output_type": "stream",
     "text": [
      "The Length of Shortest Path is 36\n"
     ]
    }
   ],
   "source": [
    "print(\"The Length of Shortest Path is \"+str(len(path)))"
   ]
  },
  {
   "cell_type": "code",
   "execution_count": 148,
   "metadata": {},
   "outputs": [
    {
     "data": {
      "text/plain": [
       "<matplotlib.image.AxesImage at 0x206eeea7730>"
      ]
     },
     "execution_count": 148,
     "metadata": {},
     "output_type": "execute_result"
    },
    {
     "data": {
      "image/png": "[encoded data removed]",
      "text/plain": [
       "<Figure size 432x288 with 1 Axes>"
      ]
     },
     "metadata": {
      "needs_background": "light"
     },
     "output_type": "display_data"
    }
   ],
   "source": [
    "plt.imshow(maze_1, cmap='Pastel2')"
   ]
  },
  {
   "cell_type": "code",
   "execution_count": 149,
   "metadata": {},
   "outputs": [],
   "source": [
    "#Obervations\n",
    "#The shortest path is 36 which is greatly reduced as compared to the previous one\n",
    "#It is able to diagonaly traverse to reach the goal state"
   ]
  },
  {
   "attachments": {
    "cmpe252_HW1_Bonus.png": {
     "image/png": "[encoded data removed]"
    }
   },
   "cell_type": "markdown",
   "metadata": {},
   "source": [
    "### Bonus Task (10 pt): Solving \"Sliding Tile Puzzle\" with A*-Search\n",
    "the initial and the final configurations are given at the image below. \n",
    "you can use **the number of displaced tiles** as a heuristics function, $h_1$. Use W=1\n",
    "add you code and print the optimal action sequence (which tile to move) from the intial to the final configuration.\n",
    "![cmpe252_HW1_Bonus.png](attachment:cmpe252_HW1_Bonus.png)"
   ]
  },
  {
   "cell_type": "code",
   "execution_count": 150,
   "metadata": {},
   "outputs": [],
   "source": [
    "import heapq\n",
    "import copy"
   ]
  },
  {
   "cell_type": "markdown",
   "metadata": {},
   "source": [
    "# Tile Heuristic"
   ]
  },
  {
   "cell_type": "code",
   "execution_count": 151,
   "metadata": {},
   "outputs": [],
   "source": [
    "def heuristic_misplaced_tiles(board, goal):\n",
    "    tile_counter = 0\n",
    "    w=1\n",
    "    for i in range(3):\n",
    "        for j in range(3):\n",
    "            if board[i][j] != goal[i][j]:\n",
    "                tile_counter += w\n",
    "    return tile_counter"
   ]
  },
  {
   "cell_type": "markdown",
   "metadata": {},
   "source": [
    "# Initialize and compare with other heuristic"
   ]
  },
  {
   "cell_type": "code",
   "execution_count": 152,
   "metadata": {},
   "outputs": [],
   "source": [
    "class PuzzleState:\n",
    "    def __init__(self, board, g=0, h1=0):\n",
    "        self.board = board\n",
    "        self.g = g\n",
    "        self.h1 = h1\n",
    "        self.parent = None\n",
    "\n",
    "    def __lt__(self, other):\n",
    "        return (self.g + self.h1) < (other.g + other.h1)"
   ]
  },
  {
   "cell_type": "markdown",
   "metadata": {},
   "source": [
    "# Start Board and Goal Board"
   ]
  },
  {
   "cell_type": "code",
   "execution_count": 153,
   "metadata": {},
   "outputs": [],
   "source": [
    "initial_board = [\n",
    "    [7, 2, 4],\n",
    "    [5, 0, 6],\n",
    "    [8, 3, 1]\n",
    "]\n",
    "\n",
    "goal_board = [\n",
    "    [0, 1, 2],\n",
    "    [3, 4, 5],\n",
    "    [6, 7, 8]\n",
    "]\n"
   ]
  },
  {
   "cell_type": "code",
   "execution_count": 154,
   "metadata": {},
   "outputs": [],
   "source": [
    "def print_board(board):\n",
    "    for row in board:\n",
    "        print(\" \".join(map(str, row)))\n",
    "    print(\"\\n\")"
   ]
  },
  {
   "cell_type": "markdown",
   "metadata": {},
   "source": [
    "# A* Algorithm"
   ]
  },
  {
   "cell_type": "code",
   "execution_count": 155,
   "metadata": {},
   "outputs": [],
   "source": [
    "def astar(initial_board, goal_board):\n",
    "    frontier = []\n",
    "    heapq.heappush(frontier, PuzzleState(initial_board, 0, heuristic_misplaced_tiles(initial_board, goal_board)))\n",
    "\n",
    "    old_state = set()\n",
    "\n",
    "    while frontier:\n",
    "        current_state = heapq.heappop(frontier)\n",
    "        current_board = current_state.board\n",
    "\n",
    "        if current_board == goal_board:\n",
    "            solution_path = []\n",
    "            while current_state:\n",
    "                solution_path.append(current_state)\n",
    "                current_state = current_state.parent\n",
    "            solution_path.reverse()\n",
    "            return solution_path\n",
    "\n",
    "        old_state.add(tuple(map(tuple, current_board)))\n",
    "\n",
    "        zero_row, zero_col = next((i, j) for i, row in enumerate(current_board) for j, tile in enumerate(row) if tile == 0)\n",
    "\n",
    "        poss_directions = [(0, 1), (0, -1), (1, 0), (-1, 0)]\n",
    "\n",
    "        for a, b in poss_directions:\n",
    "            new_row, new_col = zero_row + a, zero_col + b\n",
    "            if 0 <= new_row < 3 and 0 <= new_col < 3:\n",
    "                new_board = copy.deepcopy(current_board)\n",
    "                new_board[zero_row][zero_col], new_board[new_row][new_col] = new_board[new_row][new_col], new_board[zero_row][zero_col]\n",
    "\n",
    "                if tuple(map(tuple, new_board)) not in old_state:\n",
    "                    g_value = current_state.g + 1\n",
    "                    h1_value = heuristic_misplaced_tiles(new_board, goal_board)\n",
    "                    updated_puzzle_state = PuzzleState(new_board, g_value, h1_value)\n",
    "                    updated_puzzle_state.parent = current_state\n",
    "                    heapq.heappush(frontier, updated_puzzle_state)\n",
    "\n",
    "    return None"
   ]
  },
  {
   "cell_type": "code",
   "execution_count": 156,
   "metadata": {},
   "outputs": [
    {
     "name": "stdout",
     "output_type": "stream",
     "text": [
      "Best Solution:\n",
      "\n",
      "Action 1:\n",
      "7 2 4\n",
      "5 0 6\n",
      "8 3 1\n",
      "\n",
      "\n",
      "Action 2:\n",
      "7 2 4\n",
      "0 5 6\n",
      "8 3 1\n",
      "\n",
      "\n",
      "Action 3:\n",
      "0 2 4\n",
      "7 5 6\n",
      "8 3 1\n",
      "\n",
      "\n",
      "Action 4:\n",
      "2 0 4\n",
      "7 5 6\n",
      "8 3 1\n",
      "\n",
      "\n",
      "Action 5:\n",
      "2 5 4\n",
      "7 0 6\n",
      "8 3 1\n",
      "\n",
      "\n",
      "Action 6:\n",
      "2 5 4\n",
      "7 6 0\n",
      "8 3 1\n",
      "\n",
      "\n",
      "Action 7:\n",
      "2 5 4\n",
      "7 6 1\n",
      "8 3 0\n",
      "\n",
      "\n",
      "Action 8:\n",
      "2 5 4\n",
      "7 6 1\n",
      "8 0 3\n",
      "\n",
      "\n",
      "Action 9:\n",
      "2 5 4\n",
      "7 6 1\n",
      "0 8 3\n",
      "\n",
      "\n",
      "Action 10:\n",
      "2 5 4\n",
      "0 6 1\n",
      "7 8 3\n",
      "\n",
      "\n",
      "Action 11:\n",
      "2 5 4\n",
      "6 0 1\n",
      "7 8 3\n",
      "\n",
      "\n",
      "Action 12:\n",
      "2 5 4\n",
      "6 1 0\n",
      "7 8 3\n",
      "\n",
      "\n",
      "Action 13:\n",
      "2 5 4\n",
      "6 1 3\n",
      "7 8 0\n",
      "\n",
      "\n",
      "Action 14:\n",
      "2 5 4\n",
      "6 1 3\n",
      "7 0 8\n",
      "\n",
      "\n",
      "Action 15:\n",
      "2 5 4\n",
      "6 1 3\n",
      "0 7 8\n",
      "\n",
      "\n",
      "Action 16:\n",
      "2 5 4\n",
      "0 1 3\n",
      "6 7 8\n",
      "\n",
      "\n",
      "Action 17:\n",
      "2 5 4\n",
      "1 0 3\n",
      "6 7 8\n",
      "\n",
      "\n",
      "Action 18:\n",
      "2 5 4\n",
      "1 3 0\n",
      "6 7 8\n",
      "\n",
      "\n",
      "Action 19:\n",
      "2 5 0\n",
      "1 3 4\n",
      "6 7 8\n",
      "\n",
      "\n",
      "Action 20:\n",
      "2 0 5\n",
      "1 3 4\n",
      "6 7 8\n",
      "\n",
      "\n",
      "Action 21:\n",
      "0 2 5\n",
      "1 3 4\n",
      "6 7 8\n",
      "\n",
      "\n",
      "Action 22:\n",
      "1 2 5\n",
      "0 3 4\n",
      "6 7 8\n",
      "\n",
      "\n",
      "Action 23:\n",
      "1 2 5\n",
      "3 0 4\n",
      "6 7 8\n",
      "\n",
      "\n",
      "Action 24:\n",
      "1 2 5\n",
      "3 4 0\n",
      "6 7 8\n",
      "\n",
      "\n",
      "Action 25:\n",
      "1 2 0\n",
      "3 4 5\n",
      "6 7 8\n",
      "\n",
      "\n",
      "Action 26:\n",
      "1 0 2\n",
      "3 4 5\n",
      "6 7 8\n",
      "\n",
      "\n",
      "Action 27:\n",
      "0 1 2\n",
      "3 4 5\n",
      "6 7 8\n",
      "\n",
      "\n"
     ]
    }
   ],
   "source": [
    "solution_path = astar(initial_board, goal_board)\n",
    "if solution_path is not None:\n",
    "    print(\"Best Solution:\\n\")\n",
    "    for i, state in enumerate(solution_path):\n",
    "        print(f\"Action {i + 1}:\")\n",
    "        print_board(state.board)\n",
    "else:\n",
    "    print(\"No valid solution found.\")"
   ]
  },
  {
   "cell_type": "code",
   "execution_count": null,
   "metadata": {},
   "outputs": [],
   "source": []
  }
 ],
 "metadata": {
  "kernelspec": {
   "display_name": "Python 3",
   "language": "python",
   "name": "python3"
  },
  "language_info": {
   "codemirror_mode": {
    "name": "ipython",
    "version": 3
   },
   "file_extension": ".py",
   "mimetype": "text/x-python",
   "name": "python",
   "nbconvert_exporter": "python",
   "pygments_lexer": "ipython3",
   "version": "3.8.5"
  }
 },
 "nbformat": 4,
 "nbformat_minor": 5
}
